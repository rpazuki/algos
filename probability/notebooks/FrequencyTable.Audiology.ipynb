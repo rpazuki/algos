{
 "cells": [
  {
   "cell_type": "markdown",
   "metadata": {},
   "source": [
    "# Dataset\n",
    "\n",
    "## In this notebook, we show how to load a dataset directly and study its probabilistic properties. The dataset information is as follows: \n",
    "\n",
    "### [Audiology (Standardized) Data Set](https://archive.ics.uci.edu/ml/datasets/Audiology+%28Standardized%29)\n",
    "\n",
    "\n",
    "### Data Set Information:\n",
    "\n",
    "This database is a standardized version of the original audiology database (see audiology.* in this directory). The non-standard set of attributes have been converted to a standard set of attributes according to the rules that follow.\n",
    "\n",
    "* Each property that appears anywhere in the original .data or .test file has been represented as a separate attribute in this file.\n",
    "\n",
    "* A property such as age_gt_60 is represented as a boolean attribute with values f and t.\n",
    "\n",
    "* In most cases, a property of the form x(y) is represented as a discrete attribute x() whose possible values are the various y's; air() is an example. There are two exceptions:\n",
    "** when only one value of y appears anywhere, e.g. static(normal). In this case, x_y appears as a boolean attribute.\n",
    "** when one case can have two or more values of x, e.g. history(..). All possible values of history are treated as separate boolean attributes.\n",
    "\n",
    "* Since boolean attributes only appear as positive conditions, each boolean attribute is assumed to be false unless noted as true. The value of multi-value discrete attributes taken as unknown (\"?\") unless a value is specified.\n",
    "\n",
    "* The original case identifications, p1 to p200 in the .data file and t1 to t26 in the .test file, have been added as a unique identifier attribute.\n",
    "\n",
    "Note: in the original .data file, p165 has a repeated specification of o_ar_c(normal); p166 has repeated specification of speech(normal) and conflicting values air(moderate) and air(mild). No other problems with the original data were noted.\n",
    "\n"
   ]
  },
  {
   "cell_type": "markdown",
   "metadata": {},
   "source": [
    "### We download the dataset here"
   ]
  },
  {
   "cell_type": "code",
   "execution_count": 2,
   "metadata": {
    "ExecuteTime": {
     "end_time": "2020-10-26T23:23:59.955633Z",
     "start_time": "2020-10-26T23:23:59.320900Z"
    },
    "scrolled": true
   },
   "outputs": [],
   "source": [
    "import requests\n",
    "from os import path\n",
    "import csv\n",
    "import numpy as np\n",
    "import sys\n",
    "import os\n",
    "sys.path.insert(0, os.path.abspath('../..'))\n",
    "\n",
    "%matplotlib inline\n",
    "\n",
    "fname = 'data/audiology.standardized.data'\n",
    "if not path.exists('data'):\n",
    "    os.mkdir('data')\n",
    "if not path.exists(fname):\n",
    "    url = 'https://archive.ics.uci.edu/ml/machine-learning-databases/audiology/audiology.standardized.data'\n",
    "    r = requests.get(url, allow_redirects=True)\n",
    "    open(fname, 'w').write(r.content)\n"
   ]
  },
  {
   "cell_type": "markdown",
   "metadata": {},
   "source": [
    "The dataset loads by calling 'genfromtxt' method in [numpy version](https://numpy.org/doc/stable/reference/generated/numpy.genfromtxt.html)\n",
    "\n",
    "Here we select the first six columns of the dataset. It just need the indices of the columns. \n",
    "\n",
    "Note that we use 'converters' to deal with missing values (for more information, refer to [numpy](https://numpy.org/doc/stable/reference/generated/numpy.genfromtxt.html) documentation), e.g., here '?' turns to 'utf8'. Also, the text file is saved in byte and decoding them to 'utf8' allows us to introduce them to numpy as 'unicode' (dtype=\"U\" argument).\n",
    "\n",
    "After that, DiscreteDistribution can load the data by calling **'from_np_array'** method."
   ]
  },
  {
   "cell_type": "code",
   "execution_count": 3,
   "metadata": {
    "ExecuteTime": {
     "end_time": "2020-10-26T23:24:01.461741Z",
     "start_time": "2020-10-26T23:24:01.419739Z"
    }
   },
   "outputs": [],
   "source": [
    "from probability import FrequencyTable\n",
    "\n",
    "# The column names and their indices in csv file that we will load\n",
    "indices_1 = [0, 1, 2, 3, 4, 5]\n",
    "names_1 = [\"age_gt_60\", \"air\", \"airBoneGap\", \"ar_c\", \"ar_u\", \"bone\"]\n",
    "# Convertor for truning missing values (?) to 'N/A'\n",
    "# Note: the data file loads as byte, so we use b'?' and to make sure\n",
    "#       everything convert to unicode, we call x.decode(\"utf-8\")\n",
    "converters = {i: (lambda x: u'N/A' if(x == b'?') else x.decode(\"utf-8\") ) for i in indices_1}\n",
    "data = np.genfromtxt(fname, \n",
    "                     dtype=\"U\",           \n",
    "                     usecols=indices_1,\n",
    "                     delimiter=',',\n",
    "                     converters=converters)\n",
    "# Load the distribution by genfromtxt\n",
    "# to see the compelete list of extra argument: \n",
    "# https://numpy.org/doc/stable/reference/generated/numpy.genfromtxt.html\n",
    "dist = FrequencyTable.from_np_array(data, names=names_1)"
   ]
  },
  {
   "cell_type": "markdown",
   "metadata": {},
   "source": [
    "#### Printing the distribution provides the total number of loaded records, the details of random variables and their levels."
   ]
  },
  {
   "cell_type": "code",
   "execution_count": 4,
   "metadata": {
    "ExecuteTime": {
     "end_time": "2020-10-26T23:24:03.204865Z",
     "start_time": "2020-10-26T23:24:03.197466Z"
    }
   },
   "outputs": [
    {
     "name": "stdout",
     "output_type": "stream",
     "text": [
      "Frequency Table \n",
      "Column names:'['age_gt_60', 'air', 'airBoneGap', 'ar_c', 'ar_u', 'bone']'\n",
      "total:200\n",
      "normalised:False\n",
      "\n"
     ]
    }
   ],
   "source": [
    "print(dist.summary())"
   ]
  },
  {
   "cell_type": "markdown",
   "metadata": {},
   "source": [
    "#### Or printing the table as a markdown"
   ]
  },
  {
   "cell_type": "code",
   "execution_count": 5,
   "metadata": {
    "ExecuteTime": {
     "end_time": "2020-10-26T23:24:07.274961Z",
     "start_time": "2020-10-26T23:24:07.261934Z"
    }
   },
   "outputs": [
    {
     "data": {
      "text/markdown": [
       "|age_gt_60|air     |airBoneGap|ar_c    |ar_u    |bone      |  |\n",
       "|-|--------|-|--------|--------|----------|--|\n",
       "|f|    mild|f|  absent|  absent|      mild|4 |\n",
       "|f|    mild|f|  absent|  absent|    normal|2 |\n",
       "|f|    mild|f|  absent|elevated|      mild|1 |\n",
       "|f|    mild|f|  absent|  normal|       N/A|1 |\n",
       "|f|    mild|f|  absent|  normal|      mild|1 |\n",
       "|f|    mild|f|elevated|elevated|       N/A|1 |\n",
       "|f|    mild|f|elevated|elevated|      mild|2 |\n",
       "|f|    mild|f|elevated|  normal|       N/A|1 |\n",
       "|f|    mild|f|elevated|  normal|      mild|6 |\n",
       "|f|    mild|f|elevated|  normal|unmeasured|2 |\n",
       "|f|    mild|f|  normal|elevated|      mild|1 |\n",
       "|f|    mild|f|  normal|elevated|unmeasured|1 |\n",
       "|f|    mild|f|  normal|  normal|       N/A|11|\n",
       "|f|    mild|f|  normal|  normal|      mild|7 |\n",
       "|f|    mild|f|  normal|  normal|unmeasured|1 |\n",
       "|f|    mild|t|  absent|  absent|       N/A|1 |\n",
       "|f|    mild|t|  absent|  absent|      mild|2 |\n",
       "|f|    mild|t|  absent|  absent|    normal|3 |\n",
       "|f|    mild|t|  absent|elevated|    normal|1 |\n",
       "|f|moderate|f|  absent|  absent|  moderate|1 |\n",
       "|f|moderate|f|elevated|elevated|       N/A|1 |\n",
       "|f|moderate|f|  normal|  normal|       N/A|1 |\n",
       "|f|moderate|t|  absent|  absent|      mild|5 |\n",
       "|f|moderate|t|  absent|  absent|    normal|2 |\n",
       "|f|  normal|f|  absent|  absent|    normal|1 |\n",
       "|f|  normal|f|  absent|elevated|       N/A|1 |\n",
       "|f|  normal|f|  absent|elevated|    normal|4 |\n",
       "|f|  normal|f|  absent|  normal|    normal|4 |\n",
       "|f|  normal|f|elevated|  absent|       N/A|1 |\n",
       "|f|  normal|f|elevated|elevated|       N/A|1 |\n",
       "|f|  normal|f|elevated|elevated|    normal|2 |\n",
       "|f|  normal|f|elevated|  normal|       N/A|3 |\n",
       "|f|  normal|f|elevated|  normal|      mild|1 |\n",
       "|f|  normal|f|  normal|elevated|       N/A|6 |\n",
       "|f|  normal|f|  normal|elevated|    normal|2 |\n",
       "|f|  normal|f|  normal|elevated|unmeasured|1 |\n",
       "|f|  normal|f|  normal|  normal|       N/A|13|\n",
       "|f|  normal|f|  normal|  normal|    normal|6 |\n",
       "|f|  normal|f|  normal|  normal|unmeasured|11|\n",
       "|f|profound|f|     N/A|     N/A|       N/A|1 |\n",
       "|f|  severe|f|     N/A|     N/A|       N/A|1 |\n",
       "|f|  severe|f|  normal|  normal|  moderate|1 |\n",
       "|f|  severe|t|  absent|  absent|      mild|2 |\n",
       "|f|  severe|t|  absent|  absent|    normal|3 |\n",
       "|t|    mild|f|  absent|     N/A|       N/A|1 |\n",
       "|t|    mild|f|  absent|  absent|      mild|3 |\n",
       "|t|    mild|f|  absent|elevated|      mild|1 |\n",
       "|t|    mild|f|  absent|  normal|      mild|2 |\n",
       "|t|    mild|f|elevated|  absent|      mild|1 |\n",
       "|t|    mild|f|elevated|elevated|       N/A|1 |\n",
       "|t|    mild|f|  normal|  absent|      mild|3 |\n",
       "|t|    mild|f|  normal|elevated|       N/A|1 |\n",
       "|t|    mild|f|  normal|elevated|      mild|3 |\n",
       "|t|    mild|f|  normal|elevated|unmeasured|2 |\n",
       "|t|    mild|f|  normal|  normal|       N/A|18|\n",
       "|t|    mild|f|  normal|  normal|      mild|6 |\n",
       "|t|    mild|f|  normal|  normal|unmeasured|8 |\n",
       "|t|    mild|t|     N/A|  absent|      mild|2 |\n",
       "|t|moderate|f|elevated|  normal|unmeasured|1 |\n",
       "|t|moderate|f|  normal|elevated|       N/A|1 |\n",
       "|t|moderate|f|  normal|  normal|       N/A|2 |\n",
       "|t|moderate|f|  normal|  normal|  moderate|1 |\n",
       "|t|moderate|t|elevated|  absent|      mild|1 |\n",
       "|t|moderate|t|  normal|  absent|      mild|1 |\n",
       "|t|  normal|f|  absent|  absent|    normal|3 |\n",
       "|t|  normal|f|  absent|  normal|    normal|1 |\n",
       "|t|  normal|f|elevated|  normal|       N/A|3 |\n",
       "|t|  normal|f|elevated|  normal|    normal|1 |\n",
       "|t|  normal|f|  normal|elevated|    normal|1 |\n",
       "|t|  normal|f|  normal|  normal|       N/A|3 |\n",
       "|t|  normal|f|  normal|  normal|    normal|1 |\n",
       "|t|  normal|f|  normal|  normal|unmeasured|3 |\n",
       "|t|  severe|f|  normal|  normal|       N/A|1 |\n"
      ],
      "text/plain": [
       "<IPython.core.display.Markdown object>"
      ]
     },
     "execution_count": 5,
     "metadata": {},
     "output_type": "execute_result"
    }
   ],
   "source": [
    "from IPython.display import Markdown\n",
    "\n",
    "Markdown(dist.to_table())"
   ]
  },
  {
   "cell_type": "markdown",
   "metadata": {},
   "source": [
    "#### We can directly access the random variables details from 'rvs' variable or random variable names."
   ]
  },
  {
   "cell_type": "code",
   "execution_count": 6,
   "metadata": {
    "ExecuteTime": {
     "end_time": "2020-10-26T23:24:10.947296Z",
     "start_time": "2020-10-26T23:24:10.944491Z"
    },
    "tags": []
   },
   "outputs": [
    {
     "name": "stdout",
     "output_type": "stream",
     "text": [
      "Random variables: ['age_gt_60', 'air', 'airBoneGap', 'ar_c', 'ar_u', 'bone']\n",
      "\n",
      "Details: \n",
      "age_gt_60\n",
      "air\n",
      "airBoneGap\n",
      "ar_c\n",
      "ar_u\n",
      "bone\n",
      "\n"
     ]
    }
   ],
   "source": [
    "print(f\"Random variables: {dist.names}\")\n",
    "print(f\"\\nDetails: \\n{dist.columns}\")"
   ]
  },
  {
   "cell_type": "markdown",
   "metadata": {},
   "source": [
    "#### Also, we can access the value of the random variables (as tuple) and its frequency by looping over the distribution itself. "
   ]
  },
  {
   "cell_type": "code",
   "execution_count": 7,
   "metadata": {
    "ExecuteTime": {
     "end_time": "2020-10-26T23:24:15.721749Z",
     "start_time": "2020-10-26T23:24:15.652246Z"
    },
    "tags": []
   },
   "outputs": [
    {
     "ename": "TypeError",
     "evalue": "to_key() argument after * must be an iterable, not slice",
     "output_type": "error",
     "traceback": [
      "\u001b[0;31m---------------------------------------------------------------------------\u001b[0m",
      "\u001b[0;31mTypeError\u001b[0m                                 Traceback (most recent call last)",
      "\u001b[0;32m<ipython-input-7-026b951ba9ef>\u001b[0m in \u001b[0;36m<module>\u001b[0;34m\u001b[0m\n\u001b[1;32m      1\u001b[0m \u001b[0;31m# print the first three values\u001b[0m\u001b[0;34m\u001b[0m\u001b[0;34m\u001b[0m\u001b[0;34m\u001b[0m\u001b[0m\n\u001b[0;32m----> 2\u001b[0;31m \u001b[0;32mfor\u001b[0m \u001b[0mt\u001b[0m \u001b[0;32min\u001b[0m \u001b[0mdist\u001b[0m\u001b[0;34m[\u001b[0m\u001b[0;34m:\u001b[0m\u001b[0;36m3\u001b[0m\u001b[0;34m]\u001b[0m\u001b[0;34m:\u001b[0m\u001b[0;34m\u001b[0m\u001b[0;34m\u001b[0m\u001b[0m\n\u001b[0m\u001b[1;32m      3\u001b[0m     \u001b[0mprint\u001b[0m\u001b[0;34m(\u001b[0m\u001b[0mt\u001b[0m\u001b[0;34m)\u001b[0m\u001b[0;34m\u001b[0m\u001b[0;34m\u001b[0m\u001b[0m\n",
      "\u001b[0;32m~/algos/probability/empirical.py\u001b[0m in \u001b[0;36m__getitem__\u001b[0;34m(self, args)\u001b[0m\n\u001b[1;32m    135\u001b[0m \u001b[0;34m\u001b[0m\u001b[0m\n\u001b[1;32m    136\u001b[0m     \u001b[0;32mdef\u001b[0m \u001b[0m__getitem__\u001b[0m\u001b[0;34m(\u001b[0m\u001b[0mself\u001b[0m\u001b[0;34m,\u001b[0m \u001b[0margs\u001b[0m\u001b[0;34m)\u001b[0m\u001b[0;34m:\u001b[0m\u001b[0;34m\u001b[0m\u001b[0;34m\u001b[0m\u001b[0m\n\u001b[0;32m--> 137\u001b[0;31m         \u001b[0mvalue\u001b[0m \u001b[0;34m=\u001b[0m \u001b[0msuper\u001b[0m\u001b[0;34m(\u001b[0m\u001b[0;34m)\u001b[0m\u001b[0;34m.\u001b[0m\u001b[0m__getitem__\u001b[0m\u001b[0;34m(\u001b[0m\u001b[0margs\u001b[0m\u001b[0;34m)\u001b[0m\u001b[0;34m\u001b[0m\u001b[0;34m\u001b[0m\u001b[0m\n\u001b[0m\u001b[1;32m    138\u001b[0m         \u001b[0;32mif\u001b[0m \u001b[0mvalue\u001b[0m \u001b[0;32mis\u001b[0m \u001b[0;32mNone\u001b[0m\u001b[0;34m:\u001b[0m\u001b[0;34m\u001b[0m\u001b[0;34m\u001b[0m\u001b[0m\n\u001b[1;32m    139\u001b[0m             \u001b[0;32mreturn\u001b[0m \u001b[0;36m0\u001b[0m\u001b[0;34m\u001b[0m\u001b[0;34m\u001b[0m\u001b[0m\n",
      "\u001b[0;32m~/algos/probability/core.py\u001b[0m in \u001b[0;36m__getitem__\u001b[0;34m(self, args)\u001b[0m\n\u001b[1;32m    160\u001b[0m             \u001b[0mkey\u001b[0m \u001b[0;34m=\u001b[0m \u001b[0mself\u001b[0m\u001b[0;34m.\u001b[0m\u001b[0mcolumns\u001b[0m\u001b[0;34m.\u001b[0m\u001b[0mto_key\u001b[0m\u001b[0;34m(\u001b[0m\u001b[0margs\u001b[0m\u001b[0;34m)\u001b[0m\u001b[0;34m\u001b[0m\u001b[0;34m\u001b[0m\u001b[0m\n\u001b[1;32m    161\u001b[0m         \u001b[0;32melse\u001b[0m\u001b[0;34m:\u001b[0m\u001b[0;34m\u001b[0m\u001b[0;34m\u001b[0m\u001b[0m\n\u001b[0;32m--> 162\u001b[0;31m             \u001b[0mkey\u001b[0m \u001b[0;34m=\u001b[0m \u001b[0mself\u001b[0m\u001b[0;34m.\u001b[0m\u001b[0mcolumns\u001b[0m\u001b[0;34m.\u001b[0m\u001b[0mto_key\u001b[0m\u001b[0;34m(\u001b[0m\u001b[0;34m*\u001b[0m\u001b[0margs\u001b[0m\u001b[0;34m)\u001b[0m\u001b[0;34m\u001b[0m\u001b[0;34m\u001b[0m\u001b[0m\n\u001b[0m\u001b[1;32m    163\u001b[0m         \u001b[0;32mreturn\u001b[0m \u001b[0msuper\u001b[0m\u001b[0;34m(\u001b[0m\u001b[0;34m)\u001b[0m\u001b[0;34m.\u001b[0m\u001b[0m__getitem__\u001b[0m\u001b[0;34m(\u001b[0m\u001b[0mkey\u001b[0m\u001b[0;34m)\u001b[0m\u001b[0;34m\u001b[0m\u001b[0;34m\u001b[0m\u001b[0m\n\u001b[1;32m    164\u001b[0m \u001b[0;34m\u001b[0m\u001b[0m\n",
      "\u001b[0;31mTypeError\u001b[0m: to_key() argument after * must be an iterable, not slice"
     ]
    }
   ],
   "source": [
    "# print the first three values\n",
    "for t in dist[:3]:\n",
    "    print(t)"
   ]
  },
  {
   "cell_type": "markdown",
   "metadata": {},
   "source": [
    "#### To get the frequency, we need to use the value of the random variable. Calling the frequency method or using the indexer of the distribution return the frequency."
   ]
  },
  {
   "cell_type": "code",
   "execution_count": 8,
   "metadata": {
    "ExecuteTime": {
     "end_time": "2020-10-26T23:25:00.408307Z",
     "start_time": "2020-10-26T23:25:00.397926Z"
    }
   },
   "outputs": [
    {
     "name": "stdout",
     "output_type": "stream",
     "text": [
      "Frequency:  2\n",
      "Frequency:  2\n",
      "Frequency:  2\n",
      "Frequency:  2\n",
      "Frequency:  2\n"
     ]
    }
   ],
   "source": [
    "rv_value = ('t', 'mild', 't', 'N/A', 'absent', 'mild')\n",
    "# By calling the frequency method\n",
    "print(\"Frequency: \", dist.frequency(rv_value))\n",
    "# By indexre\n",
    "print(\"Frequency: \", dist[rv_value])\n",
    "# By unpacking\n",
    "print(\"Frequency: \", dist.freq(*rv_value))\n",
    "# By name\n",
    "print(\"Frequency: \", dist.freq(age_gt_60='t', air='mild', airBoneGap='t', ar_c='N/A', ar_u='absent', bone='mild'))\n",
    "# It is invariant to the order of names \n",
    "print(\"Frequency: \", dist.freq(ar_c='N/A', ar_u='absent', age_gt_60='t', air='mild', airBoneGap='t', bone='mild'))\n"
   ]
  },
  {
   "cell_type": "markdown",
   "metadata": {
    "ExecuteTime": {
     "end_time": "2020-09-04T10:11:15.361136Z",
     "start_time": "2020-09-04T10:11:15.345788Z"
    }
   },
   "source": [
    "### Or get probability instead of frequency"
   ]
  },
  {
   "cell_type": "code",
   "execution_count": 9,
   "metadata": {
    "ExecuteTime": {
     "end_time": "2020-10-26T23:25:03.007659Z",
     "start_time": "2020-10-26T23:25:03.002947Z"
    }
   },
   "outputs": [
    {
     "name": "stdout",
     "output_type": "stream",
     "text": [
      "Probability:  0.01\n",
      "Probability:  0.01\n"
     ]
    }
   ],
   "source": [
    "rv_value = ('t', 'mild', 't', 'N/A', 'absent', 'mild')\n",
    "# By calling the frequency method\n",
    "print(\"Probability: \", dist.frequency(rv_value, normalised=True))\n",
    "# By calling the frequency method\n",
    "print(\"Probability: \", dist.probability(rv_value))\n"
   ]
  },
  {
   "cell_type": "markdown",
   "metadata": {
    "ExecuteTime": {
     "end_time": "2020-09-04T10:07:40.031388Z",
     "start_time": "2020-09-04T10:07:40.009923Z"
    }
   },
   "source": [
    "### Both \"FrequencyTable\" and \"DiscreteDistribution\" classes return zero frequency/probability when the value of random variable is not observed.\n",
    "### We can also check occurrence of random variable value too"
   ]
  },
  {
   "cell_type": "code",
   "execution_count": 10,
   "metadata": {
    "ExecuteTime": {
     "end_time": "2020-10-26T23:25:05.591456Z",
     "start_time": "2020-10-26T23:25:05.583392Z"
    }
   },
   "outputs": [
    {
     "name": "stdout",
     "output_type": "stream",
     "text": [
      "Is it obsrved: False\n",
      "Frequency:  0\n",
      "Frequency:  0\n",
      "Frequency:  0\n",
      "probability:  0.0\n",
      "probability:  0.0\n"
     ]
    }
   ],
   "source": [
    "not_observed_value = ('t', 'mild', 'f', 'N/A', 'absent', 'mild')\n",
    "\n",
    "print(\"Is it obsrved:\", not_observed_value in dist)\n",
    "print(\"Frequency: \", dist[not_observed_value])\n",
    "print(\"Frequency: \", dist.frequency(not_observed_value))\n",
    "print(\"Frequency: \", dist.freq(*not_observed_value))\n",
    "print(\"probability: \", dist.frequency(not_observed_value, normalised=True))\n",
    "print(\"probability: \", dist.probability(not_observed_value))"
   ]
  },
  {
   "cell_type": "markdown",
   "metadata": {
    "ExecuteTime": {
     "end_time": "2020-09-03T23:40:04.499789Z",
     "start_time": "2020-09-03T23:40:04.486528Z"
    }
   },
   "source": [
    "# How to marginalise\n",
    "\n",
    "### Calling marginal method returns another DiscreteDistribution object that is marginalised over the requested random variables."
   ]
  },
  {
   "cell_type": "code",
   "execution_count": 12,
   "metadata": {
    "ExecuteTime": {
     "end_time": "2020-10-26T23:25:25.609672Z",
     "start_time": "2020-10-26T23:25:25.597464Z"
    }
   },
   "outputs": [
    {
     "name": "stdout",
     "output_type": "stream",
     "text": [
      "{('mild',): 101, ('moderate',): 17, ('normal',): 73, ('profound',): 1, ('severe',): 8}\n",
      "The frequencies:\n",
      "(('mild',), 101)\n",
      "(('moderate',), 17)\n",
      "(('normal',), 73)\n",
      "(('profound',), 1)\n",
      "(('severe',), 8)\n"
     ]
    }
   ],
   "source": [
    "marginal_dist_1 = dist.marginal(\"age_gt_60\", \"airBoneGap\", \"ar_c\", \"ar_u\", \"bone\")\n",
    "print(marginal_dist_1)\n",
    "print(\"The frequencies:\")\n",
    "for item in marginal_dist_1.items():\n",
    "    print(item)"
   ]
  },
  {
   "cell_type": "markdown",
   "metadata": {
    "ExecuteTime": {
     "end_time": "2020-09-03T23:40:09.103273Z",
     "start_time": "2020-09-03T23:40:09.090765Z"
    }
   },
   "source": [
    "### Plotting the distribution"
   ]
  },
  {
   "cell_type": "code",
   "execution_count": 11,
   "metadata": {
    "ExecuteTime": {
     "end_time": "2020-09-29T22:24:36.863119Z",
     "start_time": "2020-09-29T22:24:36.717867Z"
    }
   },
   "outputs": [
    {
     "data": {
      "image/png": "[encoded data removed]",
      "text/plain": [
       "<Figure size 432x288 with 1 Axes>"
      ]
     },
     "metadata": {
      "needs_background": "light"
     },
     "output_type": "display_data"
    }
   ],
   "source": [
    "import matplotlib.pyplot as plt\n",
    "\n",
    "plt.bar([ level for level in marginal_dist_1], \n",
    "        [marginal_dist_1.probability(level) for level in marginal_dist_1])\n",
    "plt.grid()\n",
    "plt.show()"
   ]
  },
  {
   "cell_type": "markdown",
   "metadata": {},
   "source": [
    "### Or "
   ]
  },
  {
   "cell_type": "code",
   "execution_count": 12,
   "metadata": {
    "ExecuteTime": {
     "end_time": "2020-09-29T22:24:41.486424Z",
     "start_time": "2020-09-29T22:24:41.466860Z"
    }
   },
   "outputs": [
    {
     "name": "stdout",
     "output_type": "stream",
     "text": [
      "Discrete distribution \n",
      "random variables:'['air' 'bone']'\n",
      "levels: 'air'\n",
      "'bone'\n",
      "\n",
      "total:200\n",
      "normalised:False\n",
      "\n",
      "The frequencies:\n",
      "(('mild', 'N/A'), 36)\n",
      "(('mild', 'mild'), 45)\n",
      "(('mild', 'normal'), 6)\n",
      "(('mild', 'unmeasured'), 14)\n",
      "(('moderate', 'N/A'), 5)\n",
      "(('moderate', 'mild'), 7)\n",
      "(('moderate', 'moderate'), 2)\n",
      "(('moderate', 'normal'), 2)\n",
      "(('moderate', 'unmeasured'), 1)\n",
      "(('normal', 'N/A'), 31)\n",
      "(('normal', 'mild'), 1)\n",
      "(('normal', 'normal'), 26)\n",
      "(('normal', 'unmeasured'), 15)\n",
      "(('profound', 'N/A'), 1)\n",
      "(('severe', 'N/A'), 2)\n",
      "(('severe', 'mild'), 2)\n",
      "(('severe', 'moderate'), 1)\n",
      "(('severe', 'normal'), 3)\n"
     ]
    }
   ],
   "source": [
    "marginal_dist_2 = dist.marginal(\"age_gt_60\", \"airBoneGap\", \"ar_c\", \"ar_u\")\n",
    "print(marginal_dist_2.summary())\n",
    "print(\"The frequencies:\")\n",
    "for item in marginal_dist_2.items():\n",
    "    print(item)"
   ]
  },
  {
   "cell_type": "code",
   "execution_count": 12,
   "metadata": {
    "ExecuteTime": {
     "end_time": "2020-09-04T12:53:48.411424Z",
     "start_time": "2020-09-04T12:53:48.183412Z"
    },
    "scrolled": false
   },
   "outputs": [
    {
     "data": {
      "image/png": "[encoded data removed]",
      "text/plain": [
       "<Figure size 576x432 with 1 Axes>"
      ]
     },
     "metadata": {
      "needs_background": "light"
     },
     "output_type": "display_data"
    }
   ],
   "source": [
    "from mpl_toolkits.mplot3d import Axes3D\n",
    "\n",
    "# setup the figure and axes\n",
    "fig = plt.figure(figsize=(8, 6))\n",
    "ax1 = fig.add_subplot(111, projection='3d')\n",
    "\n",
    "level1 = list(marginal_dist_2.rvs[0].levels)\n",
    "level2 = list(marginal_dist_2.rvs[1].levels)\n",
    "top = np.zeros((len(level1)*len(level2)))\n",
    "for i, l1 in enumerate(level1):\n",
    "    for j, l2 in enumerate(level2):\n",
    "        top[i*len(level1) + j] = marginal_dist_2.probability((l1, l2))\n",
    "\n",
    "        \n",
    "_l1_nums, _l2_nums = np.meshgrid(np.arange(len(level1)), np.arange(len(level2)))\n",
    "x, y = _l1_nums.ravel(), _l2_nums.ravel()\n",
    "\n",
    "\n",
    "\n",
    "        \n",
    "\n",
    "bottom = np.zeros_like(top)\n",
    "width = depth = .7\n",
    "ax1.bar3d(x, y+.5, bottom, width, depth, top, shade=True)\n",
    "\n",
    "ax1.set_xticklabels(level1, rotation=5)\n",
    "ax1.set_xticks(x+.3) \n",
    "ax1.set_xlabel(marginal_dist_2.rvs[0].name, fontsize='xx-large', rotation=-25, color = 'r', alpha=.5)\n",
    "\n",
    "\n",
    "ax1.set_yticklabels(level2)\n",
    "ax1.set_ylabel(marginal_dist_2.rvs[1].name, fontsize='xx-large', rotation=45, color = 'r', alpha=.5)\n",
    "#ax1.set_yticks(y+.5)\n",
    "\n",
    "ax1.set_title('Joint Probability Distribution')\n",
    "\n",
    "\n",
    "\n",
    "\n",
    "plt.show()"
   ]
  },
  {
   "cell_type": "markdown",
   "metadata": {
    "ExecuteTime": {
     "end_time": "2020-09-04T11:24:31.889547Z",
     "start_time": "2020-09-04T11:24:31.884137Z"
    }
   },
   "source": [
    "# How to condition on random variables"
   ]
  },
  {
   "cell_type": "code",
   "execution_count": 13,
   "metadata": {
    "ExecuteTime": {
     "end_time": "2020-09-29T22:24:53.414148Z",
     "start_time": "2020-09-29T22:24:53.399266Z"
    }
   },
   "outputs": [
    {
     "name": "stdout",
     "output_type": "stream",
     "text": [
      "Discrete conditional distribution \n",
      "conditioned on: ['age_gt_60' 'airBoneGap' 'ar_c' 'ar_u' 'bone']\n",
      "random variables:'['air']'\n",
      "levels: 'air'\n",
      "\n"
     ]
    }
   ],
   "source": [
    "dist_condiational = dist.condition_on(\"age_gt_60\", \"airBoneGap\", \"ar_c\", \"ar_u\", \"bone\")\n",
    "print(dist_condiational.summary())"
   ]
  },
  {
   "cell_type": "code",
   "execution_count": 14,
   "metadata": {
    "ExecuteTime": {
     "end_time": "2020-09-29T22:25:01.185279Z",
     "start_time": "2020-09-29T22:25:00.989206Z"
    }
   },
   "outputs": [
    {
     "data": {
      "image/png": "[encoded data removed]",
      "text/plain": [
       "<Figure size 432x288 with 1 Axes>"
      ]
     },
     "metadata": {
      "needs_background": "light"
     },
     "output_type": "display_data"
    },
    {
     "data": {
      "image/png": "[encoded data removed]",
      "text/plain": [
       "<Figure size 432x288 with 1 Axes>"
      ]
     },
     "metadata": {
      "needs_background": "light"
     },
     "output_type": "display_data"
    }
   ],
   "source": [
    "it = iter(dist_condiational)\n",
    "\n",
    "given_1 = next(it)\n",
    "for i in range(3):\n",
    "    next(it)\n",
    "given_2 = next(it)\n",
    "\n",
    "\n",
    "# Plot the first distribution\n",
    "dist1 = dist_condiational[given_1]\n",
    "plt.bar([ level for level in dist1], \n",
    "        [dist1.probability(s) for s in dist1])\n",
    "plt.grid()\n",
    "plt.title(f\"Given: \\n{tuple(dist_condiational.conditional_rvs.names)}:{given_1}\")\n",
    "plt.show()\n",
    "\n",
    "# Plot the second distribution\n",
    "plt.bar([ level for level in dist_condiational[given_2]],\n",
    "        [dist_condiational.probability(s, given_2) for s in dist_condiational[given_2]])\n",
    "plt.grid()\n",
    "plt.title(f\"Given: \\n{tuple(dist_condiational.conditional_rvs.names)}:{given_2}\")\n",
    "plt.show()"
   ]
  },
  {
   "cell_type": "code",
   "execution_count": null,
   "metadata": {},
   "outputs": [],
   "source": []
  }
 ],
 "metadata": {
  "kernelspec": {
   "display_name": "py3_7",
   "language": "python",
   "name": "py3_7"
  },
  "language_info": {
   "codemirror_mode": {
    "name": "ipython",
    "version": 3
   },
   "file_extension": ".py",
   "mimetype": "text/x-python",
   "name": "python",
   "nbconvert_exporter": "python",
   "pygments_lexer": "ipython3",
   "version": "3.7.3"
  }
 },
 "nbformat": 4,
 "nbformat_minor": 4
}
