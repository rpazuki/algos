{
 "cells": [
  {
   "cell_type": "code",
   "execution_count": 1,
   "metadata": {
    "ExecuteTime": {
     "end_time": "2020-10-26T23:17:39.124931Z",
     "start_time": "2020-10-26T23:17:38.960987Z"
    }
   },
   "outputs": [],
   "source": [
    "from os import path\n",
    "import csv\n",
    "import sys\n",
    "import os\n",
    "sys.path.insert(0, os.path.abspath('../..'))\n",
    "import numpy as np"
   ]
  },
  {
   "cell_type": "markdown",
   "metadata": {},
   "source": [
    "# Frequency table\n",
    "\n",
    "### Frequency table class finds the frequency of occurrence of elements. For example, let us say there is an array of integer that we would like to find its frequencies.\n",
    "\n",
    "### By creating a \"FrequencyTable\", we can get the preliminary statistics by printing it or its summary:"
   ]
  },
  {
   "cell_type": "code",
   "execution_count": 2,
   "metadata": {
    "ExecuteTime": {
     "end_time": "2020-10-26T23:17:40.203965Z",
     "start_time": "2020-10-26T23:17:40.174701Z"
    }
   },
   "outputs": [
    {
     "name": "stdout",
     "output_type": "stream",
     "text": [
      "Frequency Table \n",
      "Column names:'['X1']'\n",
      "total:200\n",
      "normalised:False\n",
      "\n"
     ]
    }
   ],
   "source": [
    "from probability import FrequencyTable\n",
    "\n",
    "samples = [2, 1, 9, 5, 9, 3, 7, 4, 0, 7, 8, 8, 5, 7, 4, 4, 8, 6, 3, 1, 6, 4,\n",
    "       1, 2, 5, 5, 4, 2, 3, 3, 3, 6, 2, 6, 2, 8, 5, 5, 4, 6, 6, 6, 5, 2,\n",
    "       3, 3, 2, 7, 7, 8, 2, 7, 0, 5, 4, 5, 0, 6, 3, 9, 4, 1, 4, 8, 0, 6,\n",
    "       5, 0, 0, 9, 2, 4, 0, 4, 3, 5, 3, 0, 2, 6, 5, 9, 6, 2, 3, 0, 4, 2,\n",
    "       0, 0, 8, 3, 7, 0, 2, 1, 4, 3, 6, 2, 5, 6, 1, 6, 5, 4, 4, 9, 3, 5,\n",
    "       8, 6, 3, 7, 8, 8, 1, 0, 8, 2, 4, 1, 4, 1, 1, 2, 1, 5, 3, 3, 7, 9,\n",
    "       5, 8, 0, 1, 5, 7, 1, 1, 3, 3, 0, 3, 4, 4, 9, 8, 7, 0, 4, 5, 2, 2,\n",
    "       7, 6, 6, 9, 0, 7, 6, 6, 2, 0, 8, 3, 8, 0, 8, 7, 7, 5, 8, 0, 6, 6,\n",
    "       6, 6, 1, 6, 3, 8, 0, 2, 2, 9, 1, 9, 4, 1, 6, 9, 2, 4, 6, 3, 5, 8,\n",
    "       4, 3]\n",
    "\n",
    "f_table = FrequencyTable(samples)\n",
    "print(f_table.summary())"
   ]
  },
  {
   "cell_type": "markdown",
   "metadata": {
    "ExecuteTime": {
     "end_time": "2020-09-06T18:23:13.973252Z",
     "start_time": "2020-09-06T18:23:13.960243Z"
    }
   },
   "source": [
    "### Also, it generates a table of frequencies by calling its 'to_table' method:"
   ]
  },
  {
   "cell_type": "code",
   "execution_count": 3,
   "metadata": {
    "ExecuteTime": {
     "end_time": "2020-10-26T23:17:41.708763Z",
     "start_time": "2020-10-26T23:17:41.700273Z"
    }
   },
   "outputs": [
    {
     "name": "stdout",
     "output_type": "stream",
     "text": [
      "|X1|  |\n",
      "|-|--|\n",
      "|0|21|\n",
      "|1|17|\n",
      "|2|22|\n",
      "|3|24|\n",
      "|4|23|\n",
      "|5|21|\n",
      "|6|26|\n",
      "|7|15|\n",
      "|8|19|\n",
      "|9|12|\n",
      "\n"
     ]
    }
   ],
   "source": [
    "print(f_table.to_table())"
   ]
  },
  {
   "cell_type": "markdown",
   "metadata": {},
   "source": [
    "### If you'd like, use Jupyter feature and turn it to a proper table. Note that here we requested the probabilities:"
   ]
  },
  {
   "cell_type": "code",
   "execution_count": 4,
   "metadata": {
    "ExecuteTime": {
     "end_time": "2020-10-26T23:17:42.964389Z",
     "start_time": "2020-10-26T23:17:42.938072Z"
    }
   },
   "outputs": [
    {
     "data": {
      "text/markdown": [
       "|X1|  |\n",
       "|-|--|\n",
       "|0|21|\n",
       "|1|17|\n",
       "|2|22|\n",
       "|3|24|\n",
       "|4|23|\n",
       "|5|21|\n",
       "|6|26|\n",
       "|7|15|\n",
       "|8|19|\n",
       "|9|12|\n"
      ],
      "text/plain": [
       "<IPython.core.display.Markdown object>"
      ]
     },
     "execution_count": 4,
     "metadata": {},
     "output_type": "execute_result"
    }
   ],
   "source": [
    "from IPython.display import Markdown\n",
    "\n",
    "Markdown(f_table.to_table())"
   ]
  },
  {
   "cell_type": "markdown",
   "metadata": {},
   "source": [
    "### To show the top four, we can use 'most_common' method and turn it to FrequencyTable again:"
   ]
  },
  {
   "cell_type": "code",
   "execution_count": 5,
   "metadata": {
    "ExecuteTime": {
     "end_time": "2020-10-26T23:17:44.184357Z",
     "start_time": "2020-10-26T23:17:44.178718Z"
    }
   },
   "outputs": [
    {
     "data": {
      "text/markdown": [
       "|X1|  |\n",
       "|-|--|\n",
       "|2|22|\n",
       "|3|24|\n",
       "|4|23|\n",
       "|6|26|\n"
      ],
      "text/plain": [
       "<IPython.core.display.Markdown object>"
      ]
     },
     "execution_count": 5,
     "metadata": {},
     "output_type": "execute_result"
    }
   ],
   "source": [
    "r = {k:v for k, v in f_table.most_common(4)}\n",
    "Markdown(FrequencyTable(r).to_table())\n"
   ]
  },
  {
   "cell_type": "markdown",
   "metadata": {},
   "source": [
    "### The random variable's default name is \"X1\". The 'frequency table' constructor accept the random variable name as an argument. Also, you can find the levels of the random variable (in our example, it is zero to nine digits):"
   ]
  },
  {
   "cell_type": "code",
   "execution_count": 6,
   "metadata": {
    "ExecuteTime": {
     "end_time": "2020-10-26T23:17:45.739270Z",
     "start_time": "2020-10-26T23:17:45.730854Z"
    }
   },
   "outputs": [
    {
     "name": "stdout",
     "output_type": "stream",
     "text": [
      "RV name: ['digits']\n",
      "RV levels: [(2,), (1,), (9,), (5,), (3,), (7,), (4,), (0,), (8,), (6,)]\n",
      "RV details: digits\n",
      "\n",
      "frequency of '4': 23\n",
      "total: 200\n"
     ]
    }
   ],
   "source": [
    "f_table = FrequencyTable(samples, names=[\"digits\"])\n",
    "print(f\"RV name: {f_table.names}\")\n",
    "print(f\"RV levels: {list(f_table.keys())}\")\n",
    "print(f\"RV details: {f_table.columns}\")\n",
    "\n",
    "print(f\"frequency of '4': {f_table.frequency(4)}\")\n",
    "print(f\"total: {f_table.total}\")"
   ]
  },
  {
   "cell_type": "markdown",
   "metadata": {},
   "source": [
    "## Let us try a different sample. This time, we use a long text and find ten the most common character:"
   ]
  },
  {
   "cell_type": "code",
   "execution_count": 7,
   "metadata": {
    "ExecuteTime": {
     "end_time": "2020-10-26T23:17:49.830303Z",
     "start_time": "2020-10-26T23:17:49.820272Z"
    }
   },
   "outputs": [
    {
     "name": "stdout",
     "output_type": "stream",
     "text": [
      "char \t freq \t prob\n",
      "(' ',) \t 168 \t 0.000\n",
      "('e',) \t 106 \t 0.000\n",
      "('a',) \t 67 \t 0.000\n",
      "('t',) \t 64 \t 0.000\n",
      "('n',) \t 62 \t 0.000\n",
      "('o',) \t 59 \t 0.000\n",
      "('s',) \t 59 \t 0.000\n",
      "('i',) \t 52 \t 0.000\n",
      "('r',) \t 44 \t 0.000\n",
      "('h',) \t 42 \t 0.000\n"
     ]
    }
   ],
   "source": [
    "long_text= \"\"\"The number of daily reported cases has been rising steadily and some of that has been put down to an increase in the number of people being tested.\n",
    "\n",
    "Put simply, the more you test the more new cases you will find. But the jump of more than one thousand in a day is a significant new spike.\n",
    "\n",
    "The health secretary says the government is concerned and has renewed official calls for more vigilance on social distancing.\n",
    "\n",
    "What Matt Hancock and health officials are worried about is that the UK might follow the same path as France and Spain, where increases in infections amongst younger adults led after a few weeks to higher numbers of admissions to hospitals for older and more vulnerable patients.\n",
    "\n",
    "The number of people seriously ill in hospital with Covid-19 has fallen and there were just two new daily reported deaths.\n",
    "\n",
    "Medical leaders and ministers can only hope that the spread of the virus amongst younger people does not get passed on to the elderly and those with underlying health problems.\"\"\"\n",
    "\n",
    "freq_chars = FrequencyTable(long_text, names=[\"character\"])\n",
    "top_ten = freq_chars.most_common(10)\n",
    "print(\"char \\t freq \\t prob\")\n",
    "for index, (character,frequency)  in enumerate(top_ten):    \n",
    "    probability = freq_chars.probability(character)\n",
    "    print(f\"{character} \\t {frequency} \\t {probability:.3f}\")"
   ]
  },
  {
   "cell_type": "markdown",
   "metadata": {
    "ExecuteTime": {
     "end_time": "2020-09-06T18:46:39.101343Z",
     "start_time": "2020-09-06T18:46:39.086752Z"
    }
   },
   "source": [
    "## Or if we need the frequency of words, we need to convert the test string to a list of words:"
   ]
  },
  {
   "cell_type": "code",
   "execution_count": 8,
   "metadata": {
    "ExecuteTime": {
     "end_time": "2020-10-26T23:18:02.685756Z",
     "start_time": "2020-10-26T23:18:02.668864Z"
    }
   },
   "outputs": [
    {
     "name": "stdout",
     "output_type": "stream",
     "text": [
      "char \t freq \t prob\n",
      "('the',) \t 10 \t 0.000\n",
      "('and',) \t 8 \t 0.000\n",
      "('of',) \t 7 \t 0.000\n",
      "('more',) \t 5 \t 0.000\n",
      "('has',) \t 4 \t 0.000\n",
      "('to',) \t 4 \t 0.000\n",
      "('in',) \t 4 \t 0.000\n",
      "('number',) \t 3 \t 0.000\n",
      "('that',) \t 3 \t 0.000\n",
      "('people',) \t 3 \t 0.000\n"
     ]
    }
   ],
   "source": [
    "freq_words = FrequencyTable(long_text.split(' '), names=[\"word\"])\n",
    "top_ten = freq_words.most_common(10)\n",
    "print(\"char \\t freq \\t prob\")\n",
    "for index, (character,frequency)  in enumerate(top_ten):    \n",
    "    probability = freq_words.probability(character)\n",
    "    print(f\"{character} \\t {frequency} \\t {probability:.3f}\")"
   ]
  },
  {
   "cell_type": "markdown",
   "metadata": {},
   "source": [
    "### We try to load the 'audiology' file by using 'genfromtxt' of [numpy version](https://numpy.org/doc/stable/reference/generated/numpy.genfromtxt.html) \n",
    "\n",
    "### Note that the file is in byte and in order to load the third column properly, we used a converter that turn the byte string to utf8. We can see, the dtype=\"U\" which tells the numpy to treat the values as unicode string. Also, the converter handles the missing values ('?') and turns them to 'NA'.\n",
    "\n",
    "### After that, turning the data to \"FrequencyTable\" is similar to previous examples:"
   ]
  },
  {
   "cell_type": "code",
   "execution_count": 11,
   "metadata": {
    "ExecuteTime": {
     "end_time": "2020-10-26T23:18:48.955351Z",
     "start_time": "2020-10-26T23:18:48.945578Z"
    }
   },
   "outputs": [
    {
     "data": {
      "text/markdown": [
       "|count   |   |\n",
       "|--------|---|\n",
       "|      NA|4  |\n",
       "|  absent|50 |\n",
       "|elevated|29 |\n",
       "|  normal|117|\n"
      ],
      "text/plain": [
       "<IPython.core.display.Markdown object>"
      ]
     },
     "execution_count": 11,
     "metadata": {},
     "output_type": "execute_result"
    }
   ],
   "source": [
    "fname = 'data/audiology.standardized.data'\n",
    "data = np.genfromtxt(fname, \n",
    "                     usecols=[3], \n",
    "                     delimiter=\",\", \n",
    "                     converters= {3: lambda x: u'NA' if(x == b'?') else x.decode(\"utf-8\")})\n",
    "test = FrequencyTable(data, names=[\"count\"])\n",
    "Markdown(test.to_table())"
   ]
  },
  {
   "cell_type": "code",
   "execution_count": null,
   "metadata": {},
   "outputs": [],
   "source": []
  }
 ],
 "metadata": {
  "kernelspec": {
   "display_name": "Python 3.8.5 64-bit ('.venv': venv)",
   "language": "python",
   "name": "python38564bitvenvvenvf985b63139314eaf8b76c943fc396f2f"
  },
  "language_info": {
   "codemirror_mode": {
    "name": "ipython",
    "version": 3
   },
   "file_extension": ".py",
   "mimetype": "text/x-python",
   "name": "python",
   "nbconvert_exporter": "python",
   "pygments_lexer": "ipython3",
   "version": "3.8.5"
  }
 },
 "nbformat": 4,
 "nbformat_minor": 4
}
