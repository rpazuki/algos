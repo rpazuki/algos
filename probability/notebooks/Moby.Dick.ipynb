{
 "cells": [
  {
   "cell_type": "code",
   "execution_count": 1,
   "metadata": {
    "ExecuteTime": {
     "end_time": "2020-10-27T00:08:32.008632Z",
     "start_time": "2020-10-27T00:08:31.644399Z"
    }
   },
   "outputs": [],
   "source": [
    "import requests\n",
    "from os import path\n",
    "import csv\n",
    "import numpy as np\n",
    "import sys\n",
    "import os\n",
    "import codecs\n",
    "import re\n",
    "from IPython.display import Markdown\n",
    "sys.path.insert(0, os.path.abspath('../..'))\n",
    "from probability import FrequencyTable\n",
    "\n",
    "%matplotlib inline\n",
    "\n",
    "fname = 'data/Moby.Dick.txt'\n",
    "if not path.exists('data'):\n",
    "    os.mkdir('data')\n",
    "if not path.exists(fname):\n",
    "    url = 'http://www.gutenberg.org/files/2701/2701-0.txt'\n",
    "    r = requests.get(url, allow_redirects=True)    \n",
    "    file = codecs.open(fname, 'w', \"utf-8\")\n",
    "    file.write(r.content.decode('utf-8'))\n"
   ]
  },
  {
   "cell_type": "code",
   "execution_count": 2,
   "metadata": {
    "ExecuteTime": {
     "end_time": "2020-10-27T00:08:32.804604Z",
     "start_time": "2020-10-27T00:08:32.786079Z"
    }
   },
   "outputs": [],
   "source": [
    "# Load the text\n",
    "file = codecs.open(fname, 'r', 'utf-8')\n",
    "# Remove all '\\r' and '\\n'\n",
    "lines = [l.replace('\\r\\n','') for l in file.readlines()]\n",
    "file.close()"
   ]
  },
  {
   "cell_type": "code",
   "execution_count": 3,
   "metadata": {
    "ExecuteTime": {
     "end_time": "2020-10-27T00:08:33.556412Z",
     "start_time": "2020-10-27T00:08:33.529894Z"
    }
   },
   "outputs": [],
   "source": [
    "single_line = np.r_[lines]"
   ]
  },
  {
   "cell_type": "code",
   "execution_count": 4,
   "metadata": {
    "ExecuteTime": {
     "end_time": "2020-10-27T00:08:34.368648Z",
     "start_time": "2020-10-27T00:08:34.074696Z"
    }
   },
   "outputs": [],
   "source": [
    "def replace_char(line):    \n",
    "    # convert more-than-one spaces to one\n",
    "    line = re.sub(\" +\", \" \" , line) \n",
    "    # remove punctuations\n",
    "    line = re.sub(\"[,;:’\\*\\#\\[\\]()!?“”_/\\-]\", \"\" , line) \n",
    "    # lower case\n",
    "    line = line.lower()\n",
    "    # replace . by STOP_WORD    \n",
    "    line = line.replace(\".\", \" STOP_WORD \")    \n",
    "    return line\n",
    "#np.flatiter()\n",
    "words = [w for line in [replace_char(line).split(\" \") for line in single_line if len(line) > 0] \n",
    "           for w in line if len(w) > 0]\n",
    "dist = FrequencyTable(words)"
   ]
  },
  {
   "cell_type": "code",
   "execution_count": 5,
   "metadata": {
    "ExecuteTime": {
     "end_time": "2020-10-27T00:08:34.697363Z",
     "start_time": "2020-10-27T00:08:34.683177Z"
    }
   },
   "outputs": [
    {
     "data": {
      "text/markdown": [
       "|X1       |     |\n",
       "|---------|-----|\n",
       "|      the|14594|\n",
       "|STOP_WORD|8188 |\n",
       "|       of|6711 |\n",
       "|      and|6448 |\n",
       "|        a|4705 |\n",
       "|       to|4659 |\n",
       "|       in|4210 |\n",
       "|     that|2951 |\n",
       "|      his|2522 |\n",
       "|       it|2383 |\n"
      ],
      "text/plain": [
       "<IPython.core.display.Markdown object>"
      ]
     },
     "execution_count": 5,
     "metadata": {},
     "output_type": "execute_result"
    }
   ],
   "source": [
    "r = {k:v for k, v in dist.most_common(10)}\n",
    "Markdown(FrequencyTable(r).to_table(sort=True))"
   ]
  },
  {
   "cell_type": "code",
   "execution_count": 6,
   "metadata": {
    "ExecuteTime": {
     "end_time": "2020-10-27T00:08:35.866545Z",
     "start_time": "2020-10-27T00:08:35.254064Z"
    }
   },
   "outputs": [],
   "source": [
    "from itertools import tee\n",
    "\n",
    "def to_tuple(iterable, n=2):\n",
    "    \"s -> (s0,s1), (s1,s2), (s2, s3), ...\"\n",
    "    iterables = tee(iterable, n)\n",
    "    for i in range(n):\n",
    "        for j in range(i,n):\n",
    "            next(iterables[j], None)\n",
    "        \n",
    "    return zip(*tuple(iterables))\n",
    "\n",
    "two_words = to_tuple(words)\n",
    "dist2 = FrequencyTable([w2 for w2 in two_words if w2[0] != \"STOP_WORD\"])"
   ]
  },
  {
   "cell_type": "code",
   "execution_count": 7,
   "metadata": {
    "ExecuteTime": {
     "end_time": "2020-10-27T00:08:35.912137Z",
     "start_time": "2020-10-27T00:08:35.868613Z"
    }
   },
   "outputs": [
    {
     "data": {
      "text/markdown": [
       "|X1  |X2 |    |\n",
       "|----|---|----|\n",
       "|  of|the|1911|\n",
       "|  in|the|1189|\n",
       "|  to|the|743 |\n",
       "|from|the|444 |\n",
       "| and|the|372 |\n",
       "|  of|his|371 |\n",
       "|  on|the|356 |\n",
       "|  of|  a|338 |\n",
       "|  at|the|332 |\n",
       "|  to| be|329 |\n"
      ],
      "text/plain": [
       "<IPython.core.display.Markdown object>"
      ]
     },
     "execution_count": 7,
     "metadata": {},
     "output_type": "execute_result"
    }
   ],
   "source": [
    "r = {k:v for k, v in dist2.most_common(10)}\n",
    "Markdown(FrequencyTable(r).to_table(sort=True))"
   ]
  },
  {
   "cell_type": "code",
   "execution_count": 8,
   "metadata": {
    "ExecuteTime": {
     "end_time": "2020-10-27T00:08:37.139609Z",
     "start_time": "2020-10-27T00:08:36.446167Z"
    }
   },
   "outputs": [],
   "source": [
    "three_words = to_tuple(words, 3)\n",
    "dist3 = FrequencyTable([w3 for w3 in three_words if w3[0] != \"STOP_WORD\" and w3[1] != \"STOP_WORD\"])"
   ]
  },
  {
   "cell_type": "code",
   "execution_count": 9,
   "metadata": {
    "ExecuteTime": {
     "end_time": "2020-10-27T00:08:37.183657Z",
     "start_time": "2020-10-27T00:08:37.141332Z"
    },
    "scrolled": false
   },
   "outputs": [
    {
     "data": {
      "text/markdown": [
       "|X1  |X2   |X3       |  |\n",
       "|----|-----|---------|--|\n",
       "| the|sperm|    whale|86|\n",
       "|  of|  the|    whale|78|\n",
       "| the|white|    whale|71|\n",
       "| one|   of|      the|64|\n",
       "| out|   of|      the|57|\n",
       "|  of|  the|      sea|57|\n",
       "|part|   of|      the|53|\n",
       "|   a| sort|       of|51|\n",
       "| the|  sea|STOP_WORD|45|\n",
       "|  of|  the|    sperm|43|\n",
       "| the|whale|STOP_WORD|35|\n",
       "|  it|  was|        a|33|\n",
       "|  in|  the|      sea|32|\n",
       "| the|sperm|   whales|31|\n",
       "| for|    a|   moment|29|\n",
       "|  of|  the|     boat|29|\n",
       "|  it|   is|        a|29|\n",
       "|  of|  the|     ship|28|\n",
       "|  of|  the|   whales|28|\n",
       "|  to|  the|     deck|27|\n"
      ],
      "text/plain": [
       "<IPython.core.display.Markdown object>"
      ]
     },
     "execution_count": 9,
     "metadata": {},
     "output_type": "execute_result"
    }
   ],
   "source": [
    "r = {k:v for k, v in dist3.most_common(20)}\n",
    "Markdown(FrequencyTable(r).to_table(sort=True))"
   ]
  },
  {
   "cell_type": "code",
   "execution_count": 10,
   "metadata": {
    "ExecuteTime": {
     "end_time": "2020-10-26T23:51:12.120680Z",
     "start_time": "2020-10-26T23:51:12.046165Z"
    }
   },
   "outputs": [
    {
     "ename": "AttributeError",
     "evalue": "'FrequencyTable' object has no attribute 'condition_on'",
     "output_type": "error",
     "traceback": [
      "\u001b[0;31m---------------------------------------------------------------------------\u001b[0m",
      "\u001b[0;31mAttributeError\u001b[0m                            Traceback (most recent call last)",
      "\u001b[0;32m<ipython-input-10-cc4df56d7aea>\u001b[0m in \u001b[0;36m<module>\u001b[0;34m\u001b[0m\n\u001b[0;32m----> 1\u001b[0;31m \u001b[0mcond\u001b[0m \u001b[0;34m=\u001b[0m \u001b[0mdist3\u001b[0m\u001b[0;34m.\u001b[0m\u001b[0mcondition_on\u001b[0m\u001b[0;34m(\u001b[0m\u001b[0;34m\"X1\"\u001b[0m\u001b[0;34m)\u001b[0m\u001b[0;34m\u001b[0m\u001b[0;34m\u001b[0m\u001b[0m\n\u001b[0m",
      "\u001b[0;31mAttributeError\u001b[0m: 'FrequencyTable' object has no attribute 'condition_on'"
     ]
    }
   ],
   "source": [
    "cond = dist3.condition_on(\"X1\")"
   ]
  },
  {
   "cell_type": "code",
   "execution_count": 11,
   "metadata": {
    "ExecuteTime": {
     "end_time": "2020-09-29T22:25:50.897215Z",
     "start_time": "2020-09-29T22:25:50.894943Z"
    }
   },
   "outputs": [],
   "source": [
    "dist4 = cond[\"sea\"]"
   ]
  },
  {
   "cell_type": "code",
   "execution_count": 12,
   "metadata": {
    "ExecuteTime": {
     "end_time": "2020-09-29T22:25:52.199976Z",
     "start_time": "2020-09-29T22:25:52.176853Z"
    }
   },
   "outputs": [
    {
     "name": "stdout",
     "output_type": "stream",
     "text": [
      "a bouncing \t\t0.00324\n",
      "adding largely \t\t0.00324\n",
      "after them \t\t0.00324\n",
      "again in \t\t0.00324\n",
      "air as \t\t0.00324\n",
      "all whose \t\t0.00324\n",
      "almost perpetually \t\t0.00324\n",
      "alternate with \t\t0.00324\n",
      "among waves \t\t0.00324\n",
      "and a \t\t0.00324\n"
     ]
    }
   ],
   "source": [
    "for word2, word3 in list(dist4)[:10]:\n",
    "    print(word2, word3, \"\\t\\t%.5f\" % dist4.prob(X2=word2,X3=word3))"
   ]
  },
  {
   "cell_type": "code",
   "execution_count": 13,
   "metadata": {
    "ExecuteTime": {
     "end_time": "2020-09-29T22:25:55.229394Z",
     "start_time": "2020-09-29T22:25:54.956168Z"
    }
   },
   "outputs": [],
   "source": [
    "reduced_dist = dist3.reduce(X1=\"sea\")"
   ]
  },
  {
   "cell_type": "code",
   "execution_count": 14,
   "metadata": {
    "ExecuteTime": {
     "end_time": "2020-09-29T22:25:57.356813Z",
     "start_time": "2020-09-29T22:25:57.352053Z"
    }
   },
   "outputs": [
    {
     "data": {
      "text/markdown": [
       "|X1 |X2|title\n",
       "|---|--|-\n",
       "|and|the|0.14285714285714285|\n",
       "| as| a|0.11904761904761904|\n",
       "| in| a|0.07142857142857142|\n",
       "| as|if|0.07142857142857142|\n",
       "|such| a|0.047619047619047616|\n",
       "| on|the|0.047619047619047616|\n",
       "|even|as|0.047619047619047616|\n",
       "|disappeared|in|0.047619047619047616|\n",
       "| by|the|0.047619047619047616|\n",
       "| as|the|0.047619047619047616|\n",
       "|and|though|0.047619047619047616|\n",
       "|and|in|0.047619047619047616|\n",
       "|and|finally|0.047619047619047616|\n",
       "|almost|perpetually|0.023809523809523808|\n",
       "|all|whose|0.023809523809523808|\n",
       "|air|as|0.023809523809523808|\n",
       "|again|in|0.023809523809523808|\n",
       "|after|them|0.023809523809523808|\n",
       "|adding|largely|0.023809523809523808|\n",
       "|  a|bouncing|0.023809523809523808|\n"
      ],
      "text/plain": [
       "<IPython.core.display.Markdown object>"
      ]
     },
     "execution_count": 14,
     "metadata": {},
     "output_type": "execute_result"
    }
   ],
   "source": [
    "r = {k:v for k, v in reduced_dist.most_common(20)}\n",
    "Markdown(FrequencyTable(r).to_table(sort=True))"
   ]
  },
  {
   "cell_type": "code",
   "execution_count": 15,
   "metadata": {
    "ExecuteTime": {
     "end_time": "2020-09-29T22:26:01.215829Z",
     "start_time": "2020-09-29T22:26:00.759288Z"
    }
   },
   "outputs": [],
   "source": [
    "marginalised_dist = dist3.marginal(\"X2\", \"X3\")"
   ]
  },
  {
   "cell_type": "code",
   "execution_count": 16,
   "metadata": {
    "ExecuteTime": {
     "end_time": "2020-09-29T22:26:04.528174Z",
     "start_time": "2020-09-29T22:26:04.519027Z"
    }
   },
   "outputs": [
    {
     "data": {
      "text/markdown": [
       "|X1 |frequency|\n",
       "|---|-----|\n",
       "|the|14594.0|\n",
       "|of|6704.0|\n",
       "|and|6448.0|\n",
       "|a|4691.0|\n",
       "|to|4642.0|\n",
       "|in|4197.0|\n",
       "|that|2926.0|\n",
       "|his|2511.0|\n",
       "|it|2190.0|\n",
       "|i|1906.0|\n",
       "|but|1775.0|\n",
       "|with|1763.0|\n",
       "|he|1742.0|\n",
       "|as|1730.0|\n",
       "|is|1720.0|\n",
       "|was|1630.0|\n",
       "|for|1621.0|\n",
       "|all|1457.0|\n",
       "|this|1396.0|\n",
       "|at|1322.0|\n"
      ],
      "text/plain": [
       "<IPython.core.display.Markdown object>"
      ]
     },
     "execution_count": 16,
     "metadata": {},
     "output_type": "execute_result"
    }
   ],
   "source": [
    "r = {k:v for k, v in marginalised_dist.most_common(20)}\n",
    "Markdown(FrequencyTable(r).to_table(sort=True))"
   ]
  },
  {
   "cell_type": "code",
   "execution_count": 12,
   "metadata": {
    "ExecuteTime": {
     "end_time": "2020-10-27T00:09:33.511955Z",
     "start_time": "2020-10-27T00:09:33.027627Z"
    }
   },
   "outputs": [],
   "source": [
    "dist_ten_1 = FrequencyTable(words[:100000], [\"X1\"])\n",
    "dist_ten_2 = FrequencyTable(words[:100000], [\"X2\"])"
   ]
  },
  {
   "cell_type": "code",
   "execution_count": 13,
   "metadata": {
    "ExecuteTime": {
     "end_time": "2020-10-27T00:12:24.934233Z",
     "start_time": "2020-10-27T00:09:34.356404Z"
    }
   },
   "outputs": [
    {
     "name": "stdout",
     "output_type": "stream",
     "text": [
      " "
     ]
    }
   ],
   "source": [
    "%prun prod_1 = dist_ten_1 * dist_ten_2"
   ]
  },
  {
   "cell_type": "code",
   "execution_count": 19,
   "metadata": {
    "ExecuteTime": {
     "end_time": "2020-09-13T01:23:40.733457Z",
     "start_time": "2020-09-13T01:20:07.608746Z"
    }
   },
   "outputs": [
    {
     "name": "stdout",
     "output_type": "stream",
     "text": [
      " "
     ]
    }
   ],
   "source": [
    "%prun prod_1 = dist_ten_1.product_multi_proc(dist_ten_2, 4)"
   ]
  },
  {
   "cell_type": "code",
   "execution_count": 14,
   "metadata": {
    "ExecuteTime": {
     "end_time": "2020-10-27T00:16:22.593372Z",
     "start_time": "2020-10-27T00:16:19.609586Z"
    }
   },
   "outputs": [
    {
     "data": {
      "text/plain": [
       "166435801"
      ]
     },
     "execution_count": 14,
     "metadata": {},
     "output_type": "execute_result"
    }
   ],
   "source": [
    "len(prod_1.keys())"
   ]
  },
  {
   "cell_type": "code",
   "execution_count": 21,
   "metadata": {
    "ExecuteTime": {
     "end_time": "2020-09-13T01:24:04.563535Z",
     "start_time": "2020-09-13T01:24:04.554294Z"
    }
   },
   "outputs": [
    {
     "data": {
      "text/plain": [
       "12901"
      ]
     },
     "execution_count": 21,
     "metadata": {},
     "output_type": "execute_result"
    }
   ],
   "source": [
    "len(dist_ten_1.keys())"
   ]
  },
  {
   "cell_type": "code",
   "execution_count": null,
   "metadata": {},
   "outputs": [],
   "source": []
  }
 ],
 "metadata": {
  "kernelspec": {
   "display_name": "Python 3.8.5 64-bit ('.venv': venv)",
   "language": "python",
   "name": "python38564bitvenvvenvf985b63139314eaf8b76c943fc396f2f"
  },
  "language_info": {
   "codemirror_mode": {
    "name": "ipython",
    "version": 3
   },
   "file_extension": ".py",
   "mimetype": "text/x-python",
   "name": "python",
   "nbconvert_exporter": "python",
   "pygments_lexer": "ipython3",
   "version": "3.8.5"
  }
 },
 "nbformat": 4,
 "nbformat_minor": 4
}
