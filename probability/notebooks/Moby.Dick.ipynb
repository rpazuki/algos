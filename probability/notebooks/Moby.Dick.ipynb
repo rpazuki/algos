{
 "cells": [
  {
   "cell_type": "code",
   "execution_count": 1,
   "metadata": {
    "ExecuteTime": {
     "end_time": "2020-10-28T01:37:44.707783Z",
     "start_time": "2020-10-28T01:37:44.333234Z"
    }
   },
   "outputs": [],
   "source": [
    "import requests\n",
    "from os import path\n",
    "import csv\n",
    "import numpy as np\n",
    "import sys\n",
    "import os\n",
    "import codecs\n",
    "import re\n",
    "from IPython.display import Markdown\n",
    "sys.path.insert(0, os.path.abspath('../..'))\n",
    "from probability import FrequencyTable\n",
    "\n",
    "%matplotlib inline\n",
    "\n",
    "fname = 'data/Moby.Dick.txt'\n",
    "if not path.exists('data'):\n",
    "    os.mkdir('data')\n",
    "if not path.exists(fname):\n",
    "    url = 'http://www.gutenberg.org/files/2701/2701-0.txt'\n",
    "    r = requests.get(url, allow_redirects=True)    \n",
    "    file = codecs.open(fname, 'w', \"utf-8\")\n",
    "    file.write(r.content.decode('utf-8'))\n"
   ]
  },
  {
   "cell_type": "code",
   "execution_count": 2,
   "metadata": {
    "ExecuteTime": {
     "end_time": "2020-10-28T01:37:45.300154Z",
     "start_time": "2020-10-28T01:37:45.279310Z"
    }
   },
   "outputs": [],
   "source": [
    "# Load the text\n",
    "file = codecs.open(fname, 'r', 'utf-8')\n",
    "# Remove all '\\r' and '\\n'\n",
    "lines = [l.replace('\\r\\n','') for l in file.readlines()]\n",
    "file.close()"
   ]
  },
  {
   "cell_type": "code",
   "execution_count": 3,
   "metadata": {
    "ExecuteTime": {
     "end_time": "2020-10-28T01:37:45.778358Z",
     "start_time": "2020-10-28T01:37:45.755273Z"
    }
   },
   "outputs": [],
   "source": [
    "single_line = np.r_[lines]"
   ]
  },
  {
   "cell_type": "code",
   "execution_count": 4,
   "metadata": {
    "ExecuteTime": {
     "end_time": "2020-10-28T01:37:46.526221Z",
     "start_time": "2020-10-28T01:37:46.235903Z"
    }
   },
   "outputs": [],
   "source": [
    "def replace_char(line):    \n",
    "    # convert more-than-one spaces to one\n",
    "    line = re.sub(\" +\", \" \" , line) \n",
    "    # remove punctuations\n",
    "    line = re.sub(\"[,;:’\\*\\#\\[\\]()!?“”_/\\-]\", \"\" , line) \n",
    "    # lower case\n",
    "    line = line.lower()\n",
    "    # replace . by STOP_WORD    \n",
    "    line = line.replace(\".\", \" STOP_WORD \")    \n",
    "    return line\n",
    "#np.flatiter()\n",
    "words = [w for line in [replace_char(line).split(\" \") for line in single_line if len(line) > 0] \n",
    "           for w in line if len(w) > 0]\n",
    "dist = FrequencyTable(words)"
   ]
  },
  {
   "cell_type": "code",
   "execution_count": 5,
   "metadata": {
    "ExecuteTime": {
     "end_time": "2020-10-28T01:37:46.769831Z",
     "start_time": "2020-10-28T01:37:46.749260Z"
    }
   },
   "outputs": [
    {
     "data": {
      "text/markdown": [
       "|X1       |     |\n",
       "|---------|-----|\n",
       "|      the|14594|\n",
       "|STOP_WORD|8188 |\n",
       "|       of|6711 |\n",
       "|      and|6448 |\n",
       "|        a|4705 |\n",
       "|       to|4659 |\n",
       "|       in|4210 |\n",
       "|     that|2951 |\n",
       "|      his|2522 |\n",
       "|       it|2383 |\n"
      ],
      "text/plain": [
       "<IPython.core.display.Markdown object>"
      ]
     },
     "execution_count": 5,
     "metadata": {},
     "output_type": "execute_result"
    }
   ],
   "source": [
    "r = {k:v for k, v in dist.most_common(10)}\n",
    "Markdown(FrequencyTable(r).to_table(sort=True))"
   ]
  },
  {
   "cell_type": "code",
   "execution_count": 6,
   "metadata": {
    "ExecuteTime": {
     "end_time": "2020-10-28T01:37:47.856986Z",
     "start_time": "2020-10-28T01:37:47.324271Z"
    }
   },
   "outputs": [],
   "source": [
    "from itertools import tee\n",
    "\n",
    "def to_tuple(iterable, n=2):\n",
    "    \"s -> (s0,s1), (s1,s2), (s2, s3), ...\"\n",
    "    iterables = tee(iterable, n)\n",
    "    for i in range(n):\n",
    "        for j in range(i,n):\n",
    "            next(iterables[j], None)\n",
    "        \n",
    "    return zip(*tuple(iterables))\n",
    "\n",
    "two_words = to_tuple(words)\n",
    "dist2 = FrequencyTable([w2 for w2 in two_words if w2[0] != \"STOP_WORD\"])"
   ]
  },
  {
   "cell_type": "code",
   "execution_count": 7,
   "metadata": {
    "ExecuteTime": {
     "end_time": "2020-10-28T01:37:47.893266Z",
     "start_time": "2020-10-28T01:37:47.859565Z"
    }
   },
   "outputs": [
    {
     "data": {
      "text/markdown": [
       "|X1  |X2 |    |\n",
       "|----|---|----|\n",
       "|  of|the|1911|\n",
       "|  in|the|1189|\n",
       "|  to|the|743 |\n",
       "|from|the|444 |\n",
       "| and|the|372 |\n",
       "|  of|his|371 |\n",
       "|  on|the|356 |\n",
       "|  of|  a|338 |\n",
       "|  at|the|332 |\n",
       "|  to| be|329 |\n"
      ],
      "text/plain": [
       "<IPython.core.display.Markdown object>"
      ]
     },
     "execution_count": 7,
     "metadata": {},
     "output_type": "execute_result"
    }
   ],
   "source": [
    "r = {k:v for k, v in dist2.most_common(10)}\n",
    "Markdown(FrequencyTable(r).to_table(sort=True))"
   ]
  },
  {
   "cell_type": "code",
   "execution_count": 8,
   "metadata": {
    "ExecuteTime": {
     "end_time": "2020-10-28T01:37:48.984057Z",
     "start_time": "2020-10-28T01:37:48.387822Z"
    }
   },
   "outputs": [],
   "source": [
    "three_words = to_tuple(words, 3)\n",
    "dist3 = FrequencyTable([w3 for w3 in three_words if w3[0] != \"STOP_WORD\" and w3[1] != \"STOP_WORD\"])"
   ]
  },
  {
   "cell_type": "code",
   "execution_count": 9,
   "metadata": {
    "ExecuteTime": {
     "end_time": "2020-10-28T01:37:49.022483Z",
     "start_time": "2020-10-28T01:37:48.985578Z"
    },
    "scrolled": false
   },
   "outputs": [
    {
     "data": {
      "text/markdown": [
       "|X1  |X2   |X3       |  |\n",
       "|----|-----|---------|--|\n",
       "| the|sperm|    whale|86|\n",
       "|  of|  the|    whale|78|\n",
       "| the|white|    whale|71|\n",
       "| one|   of|      the|64|\n",
       "| out|   of|      the|57|\n",
       "|  of|  the|      sea|57|\n",
       "|part|   of|      the|53|\n",
       "|   a| sort|       of|51|\n",
       "| the|  sea|STOP_WORD|45|\n",
       "|  of|  the|    sperm|43|\n",
       "| the|whale|STOP_WORD|35|\n",
       "|  it|  was|        a|33|\n",
       "|  in|  the|      sea|32|\n",
       "| the|sperm|   whales|31|\n",
       "| for|    a|   moment|29|\n",
       "|  of|  the|     boat|29|\n",
       "|  it|   is|        a|29|\n",
       "|  of|  the|     ship|28|\n",
       "|  of|  the|   whales|28|\n",
       "|  to|  the|     deck|27|\n"
      ],
      "text/plain": [
       "<IPython.core.display.Markdown object>"
      ]
     },
     "execution_count": 9,
     "metadata": {},
     "output_type": "execute_result"
    }
   ],
   "source": [
    "r = {k:v for k, v in dist3.most_common(20)}\n",
    "Markdown(FrequencyTable(r).to_table(sort=True))"
   ]
  },
  {
   "cell_type": "code",
   "execution_count": 10,
   "metadata": {
    "ExecuteTime": {
     "end_time": "2020-10-28T01:37:54.258456Z",
     "start_time": "2020-10-28T01:37:51.519551Z"
    }
   },
   "outputs": [],
   "source": [
    "cond = dist3.condition_on(\"X1\")"
   ]
  },
  {
   "cell_type": "code",
   "execution_count": 11,
   "metadata": {
    "ExecuteTime": {
     "end_time": "2020-10-28T01:38:01.154557Z",
     "start_time": "2020-10-28T01:38:01.150815Z"
    }
   },
   "outputs": [],
   "source": [
    "dist4 = cond[\"sea\"]"
   ]
  },
  {
   "cell_type": "code",
   "execution_count": 12,
   "metadata": {
    "ExecuteTime": {
     "end_time": "2020-10-28T01:38:05.100188Z",
     "start_time": "2020-10-28T01:38:05.088308Z"
    }
   },
   "outputs": [
    {
     "name": "stdout",
     "output_type": "stream",
     "text": [
      "a bouncing \t\t0.00324\n",
      "adding largely \t\t0.00324\n",
      "after them \t\t0.00324\n",
      "again in \t\t0.00324\n",
      "air as \t\t0.00324\n",
      "all whose \t\t0.00324\n",
      "almost perpetually \t\t0.00324\n",
      "alternate with \t\t0.00324\n",
      "among waves \t\t0.00324\n",
      "and a \t\t0.00324\n"
     ]
    }
   ],
   "source": [
    "for word2, word3 in list(dist4)[:10]:\n",
    "    print(word2, word3, \"\\t\\t%.5f\" % dist4.prob(X2=word2,X3=word3))"
   ]
  },
  {
   "cell_type": "code",
   "execution_count": 13,
   "metadata": {
    "ExecuteTime": {
     "end_time": "2020-10-28T01:38:11.325320Z",
     "start_time": "2020-10-28T01:38:11.085054Z"
    }
   },
   "outputs": [],
   "source": [
    "reduced_dist = dist3.reduce(X1=\"sea\")"
   ]
  },
  {
   "cell_type": "code",
   "execution_count": 15,
   "metadata": {
    "ExecuteTime": {
     "end_time": "2020-10-28T01:38:31.581516Z",
     "start_time": "2020-10-28T01:38:31.572268Z"
    }
   },
   "outputs": [
    {
     "data": {
      "text/markdown": [
       "|X1         |X2         | |\n",
       "|-----------|-----------|-|\n",
       "|        and|        the|6|\n",
       "|         as|          a|5|\n",
       "|         in|          a|3|\n",
       "|         as|         if|3|\n",
       "|       such|          a|2|\n",
       "|         on|        the|2|\n",
       "|       even|         as|2|\n",
       "|disappeared|         in|2|\n",
       "|         by|        the|2|\n",
       "|         as|        the|2|\n",
       "|        and|     though|2|\n",
       "|        and|         in|2|\n",
       "|        and|    finally|2|\n",
       "|     almost|perpetually|1|\n",
       "|        all|      whose|1|\n",
       "|        air|         as|1|\n",
       "|      again|         in|1|\n",
       "|      after|       them|1|\n",
       "|     adding|    largely|1|\n",
       "|          a|   bouncing|1|\n"
      ],
      "text/plain": [
       "<IPython.core.display.Markdown object>"
      ]
     },
     "execution_count": 15,
     "metadata": {},
     "output_type": "execute_result"
    }
   ],
   "source": [
    "r = {k:v for k, v in FrequencyTable(reduced_dist).most_common(20)}\n",
    "Markdown(FrequencyTable(r).to_table(sort=True))"
   ]
  },
  {
   "cell_type": "code",
   "execution_count": 16,
   "metadata": {
    "ExecuteTime": {
     "end_time": "2020-10-28T01:38:40.212856Z",
     "start_time": "2020-10-28T01:38:38.696430Z"
    }
   },
   "outputs": [],
   "source": [
    "marginalised_dist = dist3.marginal(\"X2\", \"X3\")"
   ]
  },
  {
   "cell_type": "code",
   "execution_count": 17,
   "metadata": {
    "ExecuteTime": {
     "end_time": "2020-10-28T01:38:43.450565Z",
     "start_time": "2020-10-28T01:38:43.424185Z"
    }
   },
   "outputs": [
    {
     "data": {
      "text/markdown": [
       "|X1  |     |\n",
       "|----|-----|\n",
       "| the|14594|\n",
       "|  of|6704 |\n",
       "| and|6448 |\n",
       "|   a|4691 |\n",
       "|  to|4642 |\n",
       "|  in|4197 |\n",
       "|that|2926 |\n",
       "| his|2511 |\n",
       "|  it|2190 |\n",
       "|   i|1906 |\n",
       "| but|1775 |\n",
       "|with|1763 |\n",
       "|  he|1742 |\n",
       "|  as|1730 |\n",
       "|  is|1720 |\n",
       "| was|1630 |\n",
       "| for|1621 |\n",
       "| all|1457 |\n",
       "|this|1396 |\n",
       "|  at|1322 |\n"
      ],
      "text/plain": [
       "<IPython.core.display.Markdown object>"
      ]
     },
     "execution_count": 17,
     "metadata": {},
     "output_type": "execute_result"
    }
   ],
   "source": [
    "r = {k:v for k, v in marginalised_dist.most_common(20)}\n",
    "Markdown(FrequencyTable(r).to_table(sort=True))"
   ]
  },
  {
   "cell_type": "code",
   "execution_count": 10,
   "metadata": {
    "ExecuteTime": {
     "end_time": "2020-10-28T00:43:13.923762Z",
     "start_time": "2020-10-28T00:43:13.905693Z"
    }
   },
   "outputs": [],
   "source": [
    "dist_ten_1 = FrequencyTable(words[:10000], [\"X1\"])\n",
    "dist_ten_2 = FrequencyTable(words[:10000], [\"X2\"])"
   ]
  },
  {
   "cell_type": "code",
   "execution_count": 11,
   "metadata": {
    "ExecuteTime": {
     "end_time": "2020-10-28T00:43:22.849492Z",
     "start_time": "2020-10-28T00:43:15.057762Z"
    }
   },
   "outputs": [
    {
     "name": "stdout",
     "output_type": "stream",
     "text": [
      " "
     ]
    }
   ],
   "source": [
    "%prun prod_1 = dist_ten_1 * dist_ten_2"
   ]
  },
  {
   "cell_type": "code",
   "execution_count": 19,
   "metadata": {
    "ExecuteTime": {
     "end_time": "2020-09-13T01:23:40.733457Z",
     "start_time": "2020-09-13T01:20:07.608746Z"
    }
   },
   "outputs": [
    {
     "name": "stdout",
     "output_type": "stream",
     "text": [
      " "
     ]
    }
   ],
   "source": [
    "%prun prod_1 = dist_ten_1.product_multi_proc(dist_ten_2, 4)"
   ]
  },
  {
   "cell_type": "code",
   "execution_count": 14,
   "metadata": {
    "ExecuteTime": {
     "end_time": "2020-10-27T00:16:22.593372Z",
     "start_time": "2020-10-27T00:16:19.609586Z"
    }
   },
   "outputs": [
    {
     "data": {
      "text/plain": [
       "166435801"
      ]
     },
     "execution_count": 14,
     "metadata": {},
     "output_type": "execute_result"
    }
   ],
   "source": [
    "len(prod_1.keys())"
   ]
  },
  {
   "cell_type": "code",
   "execution_count": 21,
   "metadata": {
    "ExecuteTime": {
     "end_time": "2020-09-13T01:24:04.563535Z",
     "start_time": "2020-09-13T01:24:04.554294Z"
    }
   },
   "outputs": [
    {
     "data": {
      "text/plain": [
       "12901"
      ]
     },
     "execution_count": 21,
     "metadata": {},
     "output_type": "execute_result"
    }
   ],
   "source": [
    "len(dist_ten_1.keys())"
   ]
  },
  {
   "cell_type": "code",
   "execution_count": 12,
   "metadata": {
    "ExecuteTime": {
     "end_time": "2020-10-28T00:44:20.632595Z",
     "start_time": "2020-10-28T00:43:27.135387Z"
    }
   },
   "outputs": [
    {
     "name": "stdout",
     "output_type": "stream",
     "text": [
      " "
     ]
    }
   ],
   "source": [
    "%prun p2 = prod_1.marginal(\"X1\")"
   ]
  },
  {
   "cell_type": "code",
   "execution_count": 13,
   "metadata": {
    "ExecuteTime": {
     "end_time": "2020-10-28T00:13:05.364875Z",
     "start_time": "2020-10-28T00:13:05.362246Z"
    }
   },
   "outputs": [
    {
     "name": "stdout",
     "output_type": "stream",
     "text": [
      "Frequency Table \n",
      "Column names:'['X2']'\n",
      "total:100000000\n",
      "normalised:False\n",
      "\n"
     ]
    }
   ],
   "source": [
    "print(p2.summary())"
   ]
  },
  {
   "cell_type": "code",
   "execution_count": 14,
   "metadata": {
    "ExecuteTime": {
     "end_time": "2020-10-28T00:13:06.353927Z",
     "start_time": "2020-10-28T00:13:06.347925Z"
    }
   },
   "outputs": [
    {
     "data": {
      "text/plain": [
       "8898289"
      ]
     },
     "execution_count": 14,
     "metadata": {},
     "output_type": "execute_result"
    }
   ],
   "source": [
    "len(prod_1)"
   ]
  },
  {
   "cell_type": "code",
   "execution_count": 15,
   "metadata": {
    "ExecuteTime": {
     "end_time": "2020-10-28T00:13:09.475473Z",
     "start_time": "2020-10-28T00:13:09.471568Z"
    }
   },
   "outputs": [
    {
     "data": {
      "text/plain": [
       "2983"
      ]
     },
     "execution_count": 15,
     "metadata": {},
     "output_type": "execute_result"
    }
   ],
   "source": [
    "len(p2)"
   ]
  },
  {
   "cell_type": "code",
   "execution_count": null,
   "metadata": {},
   "outputs": [],
   "source": []
  }
 ],
 "metadata": {
  "kernelspec": {
   "display_name": "Python 3.8.5 64-bit ('.venv': venv)",
   "language": "python",
   "name": "python38564bitvenvvenvf985b63139314eaf8b76c943fc396f2f"
  },
  "language_info": {
   "codemirror_mode": {
    "name": "ipython",
    "version": 3
   },
   "file_extension": ".py",
   "mimetype": "text/x-python",
   "name": "python",
   "nbconvert_exporter": "python",
   "pygments_lexer": "ipython3",
   "version": "3.8.5"
  }
 },
 "nbformat": 4,
 "nbformat_minor": 4
}
