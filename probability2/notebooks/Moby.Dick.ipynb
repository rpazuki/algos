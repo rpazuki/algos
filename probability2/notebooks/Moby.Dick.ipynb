{
 "cells": [
  {
   "cell_type": "code",
   "execution_count": 1,
   "metadata": {
    "ExecuteTime": {
     "end_time": "2020-09-29T22:25:21.189698Z",
     "start_time": "2020-09-29T22:25:20.655343Z"
    }
   },
   "outputs": [],
   "source": [
    "import requests\n",
    "from os import path\n",
    "import csv\n",
    "import numpy as np\n",
    "import sys\n",
    "import os\n",
    "import codecs\n",
    "import re\n",
    "from IPython.display import Markdown\n",
    "sys.path.insert(0, os.path.abspath('../..'))\n",
    "from probability.empirical_distributions import FrequencyTable, DiscreteDistribution\n",
    "\n",
    "%matplotlib inline\n",
    "\n",
    "fname = 'data/Moby.Dick.txt'\n",
    "if not path.exists('data'):\n",
    "    os.mkdir('data')\n",
    "if not path.exists(fname):\n",
    "    url = 'http://www.gutenberg.org/files/2701/2701-0.txt'\n",
    "    r = requests.get(url, allow_redirects=True)    \n",
    "    file = codecs.open(fname, 'w', \"utf-8\")\n",
    "    file.write(r.content.decode('utf-8'))\n"
   ]
  },
  {
   "cell_type": "code",
   "execution_count": 2,
   "metadata": {
    "ExecuteTime": {
     "end_time": "2020-09-29T22:25:24.099771Z",
     "start_time": "2020-09-29T22:25:24.067405Z"
    }
   },
   "outputs": [],
   "source": [
    "# Load the text\n",
    "file = codecs.open(fname, 'r', 'utf-8')\n",
    "# Remove all '\\r' and '\\n'\n",
    "lines = [l.replace('\\r\\n','') for l in file.readlines()]\n",
    "file.close()"
   ]
  },
  {
   "cell_type": "code",
   "execution_count": 3,
   "metadata": {
    "ExecuteTime": {
     "end_time": "2020-09-29T22:25:25.154442Z",
     "start_time": "2020-09-29T22:25:25.137164Z"
    }
   },
   "outputs": [],
   "source": [
    "single_line = np.r_[lines]"
   ]
  },
  {
   "cell_type": "code",
   "execution_count": 4,
   "metadata": {
    "ExecuteTime": {
     "end_time": "2020-09-29T22:25:26.916093Z",
     "start_time": "2020-09-29T22:25:26.697662Z"
    }
   },
   "outputs": [],
   "source": [
    "def replace_char(line):    \n",
    "    # convert more-than-one spaces to one\n",
    "    line = re.sub(\" +\", \" \" , line) \n",
    "    # remove punctuations\n",
    "    line = re.sub(\"[,;:’\\*\\#\\[\\]()!?“”_/\\-]\", \"\" , line) \n",
    "    # lower case\n",
    "    line = line.lower()\n",
    "    # replace . by STOP_WORD    \n",
    "    line = line.replace(\".\", \" STOP_WORD \")    \n",
    "    return line\n",
    "#np.flatiter()\n",
    "words = [w for line in [replace_char(line).split(\" \") for line in single_line if len(line) > 0] \n",
    "           for w in line if len(w) > 0]\n",
    "dist = FrequencyTable(words)"
   ]
  },
  {
   "cell_type": "code",
   "execution_count": 5,
   "metadata": {
    "ExecuteTime": {
     "end_time": "2020-09-29T22:25:31.414950Z",
     "start_time": "2020-09-29T22:25:31.394054Z"
    }
   },
   "outputs": [
    {
     "data": {
      "text/markdown": [
       "|X1       |frequency|\n",
       "|---------|---------|\n",
       "|      the|14594.0  |\n",
       "|STOP_WORD|8188.0   |\n",
       "|       of|6711.0   |\n",
       "|      and|6448.0   |\n",
       "|        a|4705.0   |\n",
       "|       to|4659.0   |\n",
       "|       in|4210.0   |\n",
       "|     that|2951.0   |\n",
       "|      his|2522.0   |\n",
       "|       it|2383.0   |\n",
       "|**total**|57371.0    |"
      ],
      "text/plain": [
       "<IPython.core.display.Markdown object>"
      ]
     },
     "execution_count": 5,
     "metadata": {},
     "output_type": "execute_result"
    }
   ],
   "source": [
    "r = {k:v for k, v in dist.most_common(10)}\n",
    "Markdown(FrequencyTable(r).to_table(normalised=False,sort=True))"
   ]
  },
  {
   "cell_type": "code",
   "execution_count": 6,
   "metadata": {
    "ExecuteTime": {
     "end_time": "2020-09-29T22:25:35.123388Z",
     "start_time": "2020-09-29T22:25:34.891010Z"
    }
   },
   "outputs": [],
   "source": [
    "from itertools import tee\n",
    "\n",
    "def to_tuple(iterable, n=2):\n",
    "    \"s -> (s0,s1), (s1,s2), (s2, s3), ...\"\n",
    "    iterables = tee(iterable, n)\n",
    "    for i in range(n):\n",
    "        for j in range(i,n):\n",
    "            next(iterables[j], None)\n",
    "        \n",
    "    return zip(*tuple(iterables))\n",
    "\n",
    "two_words = to_tuple(words)\n",
    "dist2 = DiscreteDistribution([w2 for w2 in two_words if w2[0] != \"STOP_WORD\"])"
   ]
  },
  {
   "cell_type": "code",
   "execution_count": 7,
   "metadata": {
    "ExecuteTime": {
     "end_time": "2020-09-29T22:25:37.850809Z",
     "start_time": "2020-09-29T22:25:37.816512Z"
    }
   },
   "outputs": [
    {
     "data": {
      "text/markdown": [
       "|X1 |X2 |title\n",
       "|---|---|----\n",
       "| of|the|1911.0|\n",
       "| in|the|1189.0|\n",
       "| to|the|743.0|\n",
       "|from|the|444.0|\n",
       "|and|the|372.0|\n",
       "| of|his|371.0|\n",
       "| on|the|356.0|\n",
       "| of|  a|338.0|\n",
       "| at|the|332.0|\n",
       "| to| be|329.0|\n"
      ],
      "text/plain": [
       "<IPython.core.display.Markdown object>"
      ]
     },
     "execution_count": 7,
     "metadata": {},
     "output_type": "execute_result"
    }
   ],
   "source": [
    "r = {k:v for k, v in dist2.most_common(10)}\n",
    "Markdown(DiscreteDistribution(r).to_table(normalised=False,sort=True))"
   ]
  },
  {
   "cell_type": "code",
   "execution_count": 8,
   "metadata": {
    "ExecuteTime": {
     "end_time": "2020-09-29T22:25:41.580800Z",
     "start_time": "2020-09-29T22:25:41.283963Z"
    }
   },
   "outputs": [],
   "source": [
    "three_words = to_tuple(words, 3)\n",
    "dist3 = DiscreteDistribution([w3 for w3 in three_words if w3[0] != \"STOP_WORD\" and w3[1] != \"STOP_WORD\"])"
   ]
  },
  {
   "cell_type": "code",
   "execution_count": 9,
   "metadata": {
    "ExecuteTime": {
     "end_time": "2020-09-29T22:25:43.307595Z",
     "start_time": "2020-09-29T22:25:43.262266Z"
    },
    "scrolled": false
   },
   "outputs": [
    {
     "data": {
      "text/markdown": [
       "|X1   |X2   |X3   |title\n",
       "|-----|-----|-----|--\n",
       "|  the|sperm|whale|86.0|\n",
       "|   of|  the|whale|78.0|\n",
       "|  the|white|whale|71.0|\n",
       "|  one|   of|  the|64.0|\n",
       "|  out|   of|  the|57.0|\n",
       "|   of|  the|  sea|57.0|\n",
       "| part|   of|  the|53.0|\n",
       "|    a| sort|   of|51.0|\n",
       "|  the|  sea|STOP_WORD|45.0|\n",
       "|   of|  the|sperm|43.0|\n",
       "|  the|whale|STOP_WORD|35.0|\n",
       "|   it|  was|    a|33.0|\n",
       "|   in|  the|  sea|32.0|\n",
       "|  the|sperm|whales|31.0|\n",
       "|  for|    a|moment|29.0|\n",
       "|   of|  the| boat|29.0|\n",
       "|   it|   is|    a|29.0|\n",
       "|   of|  the| ship|28.0|\n",
       "|   of|  the|whales|28.0|\n",
       "|   to|  the| deck|27.0|\n"
      ],
      "text/plain": [
       "<IPython.core.display.Markdown object>"
      ]
     },
     "execution_count": 9,
     "metadata": {},
     "output_type": "execute_result"
    }
   ],
   "source": [
    "r = {k:v for k, v in dist3.most_common(20)}\n",
    "Markdown(DiscreteDistribution(r).to_table(normalised=False,sort=True))"
   ]
  },
  {
   "cell_type": "code",
   "execution_count": 10,
   "metadata": {
    "ExecuteTime": {
     "end_time": "2020-09-29T22:25:48.243561Z",
     "start_time": "2020-09-29T22:25:46.464180Z"
    }
   },
   "outputs": [],
   "source": [
    "cond = dist3.condition_on(\"X1\")"
   ]
  },
  {
   "cell_type": "code",
   "execution_count": 11,
   "metadata": {
    "ExecuteTime": {
     "end_time": "2020-09-29T22:25:50.897215Z",
     "start_time": "2020-09-29T22:25:50.894943Z"
    }
   },
   "outputs": [],
   "source": [
    "dist4 = cond[\"sea\"]"
   ]
  },
  {
   "cell_type": "code",
   "execution_count": 12,
   "metadata": {
    "ExecuteTime": {
     "end_time": "2020-09-29T22:25:52.199976Z",
     "start_time": "2020-09-29T22:25:52.176853Z"
    }
   },
   "outputs": [
    {
     "name": "stdout",
     "output_type": "stream",
     "text": [
      "a bouncing \t\t0.00324\n",
      "adding largely \t\t0.00324\n",
      "after them \t\t0.00324\n",
      "again in \t\t0.00324\n",
      "air as \t\t0.00324\n",
      "all whose \t\t0.00324\n",
      "almost perpetually \t\t0.00324\n",
      "alternate with \t\t0.00324\n",
      "among waves \t\t0.00324\n",
      "and a \t\t0.00324\n"
     ]
    }
   ],
   "source": [
    "for word2, word3 in list(dist4)[:10]:\n",
    "    print(word2, word3, \"\\t\\t%.5f\" % dist4.prob(X2=word2,X3=word3))"
   ]
  },
  {
   "cell_type": "code",
   "execution_count": 13,
   "metadata": {
    "ExecuteTime": {
     "end_time": "2020-09-29T22:25:55.229394Z",
     "start_time": "2020-09-29T22:25:54.956168Z"
    }
   },
   "outputs": [],
   "source": [
    "reduced_dist = dist3.reduce(X1=\"sea\")"
   ]
  },
  {
   "cell_type": "code",
   "execution_count": 14,
   "metadata": {
    "ExecuteTime": {
     "end_time": "2020-09-29T22:25:57.356813Z",
     "start_time": "2020-09-29T22:25:57.352053Z"
    }
   },
   "outputs": [
    {
     "data": {
      "text/markdown": [
       "|X1 |X2|title\n",
       "|---|--|-\n",
       "|and|the|0.14285714285714285|\n",
       "| as| a|0.11904761904761904|\n",
       "| in| a|0.07142857142857142|\n",
       "| as|if|0.07142857142857142|\n",
       "|such| a|0.047619047619047616|\n",
       "| on|the|0.047619047619047616|\n",
       "|even|as|0.047619047619047616|\n",
       "|disappeared|in|0.047619047619047616|\n",
       "| by|the|0.047619047619047616|\n",
       "| as|the|0.047619047619047616|\n",
       "|and|though|0.047619047619047616|\n",
       "|and|in|0.047619047619047616|\n",
       "|and|finally|0.047619047619047616|\n",
       "|almost|perpetually|0.023809523809523808|\n",
       "|all|whose|0.023809523809523808|\n",
       "|air|as|0.023809523809523808|\n",
       "|again|in|0.023809523809523808|\n",
       "|after|them|0.023809523809523808|\n",
       "|adding|largely|0.023809523809523808|\n",
       "|  a|bouncing|0.023809523809523808|\n"
      ],
      "text/plain": [
       "<IPython.core.display.Markdown object>"
      ]
     },
     "execution_count": 14,
     "metadata": {},
     "output_type": "execute_result"
    }
   ],
   "source": [
    "r = {k:v for k, v in reduced_dist.most_common(20)}\n",
    "Markdown(DiscreteDistribution(r).to_table(normalised=True,sort=True))"
   ]
  },
  {
   "cell_type": "code",
   "execution_count": 15,
   "metadata": {
    "ExecuteTime": {
     "end_time": "2020-09-29T22:26:01.215829Z",
     "start_time": "2020-09-29T22:26:00.759288Z"
    }
   },
   "outputs": [],
   "source": [
    "marginalised_dist = dist3.marginal(\"X2\", \"X3\")"
   ]
  },
  {
   "cell_type": "code",
   "execution_count": 16,
   "metadata": {
    "ExecuteTime": {
     "end_time": "2020-09-29T22:26:04.528174Z",
     "start_time": "2020-09-29T22:26:04.519027Z"
    }
   },
   "outputs": [
    {
     "data": {
      "text/markdown": [
       "|X1 |frequency|\n",
       "|---|-----|\n",
       "|the|14594.0|\n",
       "|of|6704.0|\n",
       "|and|6448.0|\n",
       "|a|4691.0|\n",
       "|to|4642.0|\n",
       "|in|4197.0|\n",
       "|that|2926.0|\n",
       "|his|2511.0|\n",
       "|it|2190.0|\n",
       "|i|1906.0|\n",
       "|but|1775.0|\n",
       "|with|1763.0|\n",
       "|he|1742.0|\n",
       "|as|1730.0|\n",
       "|is|1720.0|\n",
       "|was|1630.0|\n",
       "|for|1621.0|\n",
       "|all|1457.0|\n",
       "|this|1396.0|\n",
       "|at|1322.0|\n"
      ],
      "text/plain": [
       "<IPython.core.display.Markdown object>"
      ]
     },
     "execution_count": 16,
     "metadata": {},
     "output_type": "execute_result"
    }
   ],
   "source": [
    "r = {k:v for k, v in marginalised_dist.most_common(20)}\n",
    "Markdown(DiscreteDistribution(r).to_table(normalised=False,sort=True))"
   ]
  },
  {
   "cell_type": "code",
   "execution_count": 17,
   "metadata": {
    "ExecuteTime": {
     "end_time": "2020-09-29T22:26:11.230317Z",
     "start_time": "2020-09-29T22:26:11.173694Z"
    }
   },
   "outputs": [],
   "source": [
    "dist_ten_1 = FrequencyTable(words[:100000], \"X1\")\n",
    "dist_ten_2 = FrequencyTable(words[:100000], \"X2\")"
   ]
  },
  {
   "cell_type": "code",
   "execution_count": 20,
   "metadata": {
    "ExecuteTime": {
     "end_time": "2020-09-13T00:58:06.510828Z",
     "start_time": "2020-09-13T00:57:48.265845Z"
    }
   },
   "outputs": [
    {
     "name": "stdout",
     "output_type": "stream",
     "text": [
      " "
     ]
    }
   ],
   "source": [
    "%prun prod_1 = dist_ten_1 * dist_ten_2"
   ]
  },
  {
   "cell_type": "code",
   "execution_count": 19,
   "metadata": {
    "ExecuteTime": {
     "end_time": "2020-09-13T01:23:40.733457Z",
     "start_time": "2020-09-13T01:20:07.608746Z"
    }
   },
   "outputs": [
    {
     "name": "stdout",
     "output_type": "stream",
     "text": [
      " "
     ]
    }
   ],
   "source": [
    "%prun prod_1 = dist_ten_1.product_multi_proc(dist_ten_2, 4)"
   ]
  },
  {
   "cell_type": "code",
   "execution_count": 20,
   "metadata": {
    "ExecuteTime": {
     "end_time": "2020-09-13T01:24:02.439344Z",
     "start_time": "2020-09-13T01:24:02.428976Z"
    }
   },
   "outputs": [
    {
     "data": {
      "text/plain": [
       "166435801"
      ]
     },
     "execution_count": 20,
     "metadata": {},
     "output_type": "execute_result"
    }
   ],
   "source": [
    "len(prod_1.keys())"
   ]
  },
  {
   "cell_type": "code",
   "execution_count": 21,
   "metadata": {
    "ExecuteTime": {
     "end_time": "2020-09-13T01:24:04.563535Z",
     "start_time": "2020-09-13T01:24:04.554294Z"
    }
   },
   "outputs": [
    {
     "data": {
      "text/plain": [
       "12901"
      ]
     },
     "execution_count": 21,
     "metadata": {},
     "output_type": "execute_result"
    }
   ],
   "source": [
    "len(dist_ten_1.keys())"
   ]
  },
  {
   "cell_type": "code",
   "execution_count": null,
   "metadata": {},
   "outputs": [],
   "source": []
  }
 ],
 "metadata": {
  "kernelspec": {
   "display_name": "Python 3.8.5 64-bit ('.venv': venv)",
   "language": "python",
   "name": "python38564bitvenvvenvf985b63139314eaf8b76c943fc396f2f"
  },
  "language_info": {
   "codemirror_mode": {
    "name": "ipython",
    "version": 3
   },
   "file_extension": ".py",
   "mimetype": "text/x-python",
   "name": "python",
   "nbconvert_exporter": "python",
   "pygments_lexer": "ipython3",
   "version": "3.8.5"
  }
 },
 "nbformat": 4,
 "nbformat_minor": 4
}
